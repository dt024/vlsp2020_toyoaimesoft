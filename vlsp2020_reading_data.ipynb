{
 "cells": [
  {
   "cell_type": "code",
   "execution_count": null,
   "metadata": {},
   "outputs": [],
   "source": [
    "!pip install emoji"
   ]
  },
  {
   "cell_type": "code",
   "execution_count": null,
   "metadata": {
    "colab": {
     "base_uri": "https://localhost:8080/"
    },
    "id": "kWAVqzxein0x",
    "outputId": "7e39a84e-b15f-4860-8538-2d8f46424c14"
   },
   "outputs": [
    {
     "name": "stderr",
     "output_type": "stream",
     "text": [
      "/usr/local/lib/python3.6/dist-packages/sklearn/externals/six.py:31: DeprecationWarning: The module is deprecated in version 0.21 and will be removed in version 0.23 since we've dropped support for Python 2.7. Please rely on the official version of six (https://pypi.org/project/six/).\n",
      "  \"(https://pypi.org/project/six/).\", DeprecationWarning)\n"
     ]
    }
   ],
   "source": [
    "import pandas as pd\n",
    "import numpy as np\n",
    "import json\n",
    "from sklearn.model_selection import train_test_split\n",
    "import re\n",
    "import spacy\n",
    "import random\n",
    "import tqdm\n",
    "import matplotlib.pyplot as plt\n",
    "import matplotlib\n",
    "import seaborn as sns\n",
    "from collections import defaultdict\n",
    "from collections import Counter\n",
    "from sklearn.feature_extraction.text import CountVectorizer, TfidfVectorizer\n",
    "from sklearn.decomposition import PCA, TruncatedSVD\n",
    "import matplotlib.patches as mpatches\n",
    "from fancyimpute import IterativeImputer\n",
    "import emoji"
   ]
  },
  {
   "cell_type": "markdown",
   "metadata": {
    "id": "aHqSiAfniwV8"
   },
   "source": [
    "# Reading file\n"
   ]
  },
  {
   "cell_type": "code",
   "execution_count": null,
   "metadata": {
    "colab": {
     "base_uri": "https://localhost:8080/",
     "height": 464
    },
    "id": "Qc_hLLdteO59",
    "outputId": "d02b92f3-e666-4ed4-bfc0-68dfc97c3977"
   },
   "outputs": [
    {
     "name": "stdout",
     "output_type": "stream",
     "text": [
      "<class 'pandas.core.frame.DataFrame'>\n",
      "RangeIndex: 1646 entries, 0 to 1645\n",
      "Data columns (total 7 columns):\n",
      " #   Column            Non-Null Count  Dtype  \n",
      "---  ------            --------------  -----  \n",
      " 0   id                1646 non-null   int64  \n",
      " 1   user_name         1646 non-null   object \n",
      " 2   post_message      1646 non-null   object \n",
      " 3   timestamp_post    1612 non-null   float64\n",
      " 4   num_like_post     1030 non-null   float64\n",
      " 5   num_comment_post  969 non-null    object \n",
      " 6   num_share_post    904 non-null    object \n",
      "dtypes: float64(2), int64(1), object(4)\n",
      "memory usage: 90.1+ KB\n",
      "None\n"
     ]
    },
    {
     "data": {
      "text/html": [
       "<div>\n",
       "<style scoped>\n",
       "    .dataframe tbody tr th:only-of-type {\n",
       "        vertical-align: middle;\n",
       "    }\n",
       "\n",
       "    .dataframe tbody tr th {\n",
       "        vertical-align: top;\n",
       "    }\n",
       "\n",
       "    .dataframe thead th {\n",
       "        text-align: right;\n",
       "    }\n",
       "</style>\n",
       "<table border=\"1\" class=\"dataframe\">\n",
       "  <thead>\n",
       "    <tr style=\"text-align: right;\">\n",
       "      <th></th>\n",
       "      <th>id</th>\n",
       "      <th>user_name</th>\n",
       "      <th>post_message</th>\n",
       "      <th>timestamp_post</th>\n",
       "      <th>num_like_post</th>\n",
       "      <th>num_comment_post</th>\n",
       "      <th>num_share_post</th>\n",
       "    </tr>\n",
       "  </thead>\n",
       "  <tbody>\n",
       "    <tr>\n",
       "      <th>0</th>\n",
       "      <td>6015</td>\n",
       "      <td>fbf39587d668e9ae28afb00b8fc00570</td>\n",
       "      <td>Các lời khai cố tình bị rút ra để áp án tử cho...</td>\n",
       "      <td>1.590163e+09</td>\n",
       "      <td>NaN</td>\n",
       "      <td>NaN</td>\n",
       "      <td>NaN</td>\n",
       "    </tr>\n",
       "    <tr>\n",
       "      <th>1</th>\n",
       "      <td>6016</td>\n",
       "      <td>c4acc2118bdcdb5770565362b02d00e0</td>\n",
       "      <td>(NLĐO) – Lực lượng cứu hoả gần như phải thức t...</td>\n",
       "      <td>1.586500e+09</td>\n",
       "      <td>4.0</td>\n",
       "      <td>NaN</td>\n",
       "      <td>NaN</td>\n",
       "    </tr>\n",
       "    <tr>\n",
       "      <th>2</th>\n",
       "      <td>6017</td>\n",
       "      <td>180dd4930112053803ccea8556f33e47</td>\n",
       "      <td>Cư dân mạng đang tranh cãi sôi nổi sau quyết đ...</td>\n",
       "      <td>1.592102e+09</td>\n",
       "      <td>963.0</td>\n",
       "      <td>50</td>\n",
       "      <td>6</td>\n",
       "    </tr>\n",
       "    <tr>\n",
       "      <th>3</th>\n",
       "      <td>6018</td>\n",
       "      <td>ac4d365f23909091fab2552bdc54f5ef</td>\n",
       "      <td>3 công nhân trung quốc làm cty hòa phát bị nhi...</td>\n",
       "      <td>1.596256e+09</td>\n",
       "      <td>NaN</td>\n",
       "      <td>NaN</td>\n",
       "      <td>NaN</td>\n",
       "    </tr>\n",
       "    <tr>\n",
       "      <th>4</th>\n",
       "      <td>6019</td>\n",
       "      <td>5ba5638b734e397d5263a6b1b9201abd</td>\n",
       "      <td>Một số người p Tây nhìn người Á hay Phi ko thi...</td>\n",
       "      <td>1.587462e+09</td>\n",
       "      <td>5.0</td>\n",
       "      <td>3</td>\n",
       "      <td>NaN</td>\n",
       "    </tr>\n",
       "  </tbody>\n",
       "</table>\n",
       "</div>"
      ],
      "text/plain": [
       "     id                         user_name  ... num_comment_post  num_share_post\n",
       "0  6015  fbf39587d668e9ae28afb00b8fc00570  ...              NaN             NaN\n",
       "1  6016  c4acc2118bdcdb5770565362b02d00e0  ...              NaN             NaN\n",
       "2  6017  180dd4930112053803ccea8556f33e47  ...               50               6\n",
       "3  6018  ac4d365f23909091fab2552bdc54f5ef  ...              NaN             NaN\n",
       "4  6019  5ba5638b734e397d5263a6b1b9201abd  ...                3             NaN\n",
       "\n",
       "[5 rows x 7 columns]"
      ]
     },
     "metadata": {
      "tags": []
     },
     "output_type": "display_data"
    }
   ],
   "source": [
    "df_pri = pd.read_csv('/content/drive/MyDrive/vlsp2020/final_private_test_dropped_no_label.csv')\n",
    "print(df_pri.info())\n",
    "display(df_pri.head())\n"
   ]
  },
  {
   "cell_type": "code",
   "execution_count": null,
   "metadata": {
    "id": "f4cHEODtiuzN"
   },
   "outputs": [],
   "source": [
    "df_train = pd.read_csv('/content/drive/My Drive/vlsp2020/public_train.csv')\n",
    "df_test = pd.read_csv('/content/drive/My Drive/vlsp2020/public_test.csv')\n",
    "print(df_train.info())\n",
    "print(df_test.info())\n",
    "display(df_train.head())\n",
    "display(df_test.head())"
   ]
  },
  {
   "cell_type": "code",
   "execution_count": null,
   "metadata": {
    "colab": {
     "base_uri": "https://localhost:8080/",
     "height": 77
    },
    "id": "HJAfOc03jHbE",
    "outputId": "0f62e046-e7bc-42f7-89eb-c89e02895726"
   },
   "outputs": [
    {
     "data": {
      "text/html": [
       "<div>\n",
       "<style scoped>\n",
       "    .dataframe tbody tr th:only-of-type {\n",
       "        vertical-align: middle;\n",
       "    }\n",
       "\n",
       "    .dataframe tbody tr th {\n",
       "        vertical-align: top;\n",
       "    }\n",
       "\n",
       "    .dataframe thead th {\n",
       "        text-align: right;\n",
       "    }\n",
       "</style>\n",
       "<table border=\"1\" class=\"dataframe\">\n",
       "  <thead>\n",
       "    <tr style=\"text-align: right;\">\n",
       "      <th></th>\n",
       "      <th>id</th>\n",
       "      <th>user_name</th>\n",
       "      <th>post_message</th>\n",
       "      <th>timestamp_post</th>\n",
       "      <th>num_like_post</th>\n",
       "      <th>num_comment_post</th>\n",
       "      <th>num_share_post</th>\n",
       "      <th>label</th>\n",
       "    </tr>\n",
       "  </thead>\n",
       "  <tbody>\n",
       "    <tr>\n",
       "      <th>2247</th>\n",
       "      <td>2248</td>\n",
       "      <td>66a74969be46766c182b99dc01740a11</td>\n",
       "      <td>NaN</td>\n",
       "      <td>1585331222</td>\n",
       "      <td>9717</td>\n",
       "      <td>28</td>\n",
       "      <td>88.0</td>\n",
       "      <td>0</td>\n",
       "    </tr>\n",
       "  </tbody>\n",
       "</table>\n",
       "</div>"
      ],
      "text/plain": [
       "        id                         user_name  ... num_share_post label\n",
       "2247  2248  66a74969be46766c182b99dc01740a11  ...           88.0     0\n",
       "\n",
       "[1 rows x 8 columns]"
      ]
     },
     "execution_count": 29,
     "metadata": {
      "tags": []
     },
     "output_type": "execute_result"
    }
   ],
   "source": [
    "df_train[df_train['post_message'].isnull()==True]"
   ]
  },
  {
   "cell_type": "code",
   "execution_count": null,
   "metadata": {
    "id": "x4-qvAElj3YQ"
   },
   "outputs": [],
   "source": [
    "df_train.drop(index=2247,inplace=True)\n",
    "df_train.reset_index(inplace=True)"
   ]
  },
  {
   "cell_type": "markdown",
   "metadata": {
    "id": "ufz8Bf5pkYde"
   },
   "source": [
    "# Preprocessing text"
   ]
  },
  {
   "cell_type": "code",
   "execution_count": null,
   "metadata": {
    "id": "kDizUtN3b1iW"
   },
   "outputs": [],
   "source": [
    "import emoji\n",
    "\n",
    "def delete_emoji(text):\n",
    "    res=\"\"\n",
    "    # change emoticon to text\n",
    "    text = re.sub(r'(?:[<>]?[:;=8>][\\-o\\*\\']?[\\)\\]dDpP]|[\\(\\[dDpP\\{][\\-o\\*\\']?[:;=8<][<>]?|<[/\\\\]?3|\\(?\\(?\\#?[>\\-\\^\\*\\+o\\~][\\_\\.\\|\\,][<\\-\\^\\*\\+o\\~][\\#\\;]?\\)?\\)?)','vui',text)\n",
    "    text = re.sub(r'(?:[<>]?[:;=8>][\\-o\\*\\']?[\\(\\[xX/\\\\]|[\\)\\]xX/\\}][\\-o\\*\\']?[:;=8<][<>]?|<[/\\\\]?3|\\(?\\(?\\#?[>\\-\\^\\*\\+o\\~][\\_\\.\\|\\,][<\\-\\^\\*\\+o\\~][\\#\\;]?\\)?\\)?)','buồn',text)\n",
    "    #text = re.sub(r'(?:[<>]?[:;=8>][\\-o\\*\\']?[\\:@\\|]|[\\:@\\|][\\-o\\*\\']?[:;=8<][<>]?|<[/\\\\]?3|\\(?\\(?\\#?[>\\-\\^\\*\\+o\\~][\\_\\.\\|\\,][<\\-\\^\\*\\+o\\~][\\#\\;]?\\)?\\)?)','',text)\n",
    "    text = re.sub(r':\\(', 'buồn', text)\n",
    "    text = re.sub(r': \\(\\(', 'buồn', text)\n",
    "    text = re.sub(r':, \\(', 'buồn', text)\n",
    "    text = re.sub(r':\\)', 'vui', text)\n",
    "    text = re.sub(r';\\)', 'vui', text)\n",
    "    text = re.sub(r':\\)\\)\\)', 'vui', text)\n",
    "    text = re.sub(r':\\)\\)\\)\\)\\)\\)', 'vui', text)\n",
    "    text = re.sub(r'=\\)\\)\\)\\)', 'vui', text)\n",
    "\n",
    "    for i in text:\n",
    "        if i not in emoji.UNICODE_EMOJI:\n",
    "            res += i \n",
    "    return res"
   ]
  },
  {
   "cell_type": "code",
   "execution_count": null,
   "metadata": {
    "id": "FdwNqeY8kZwR"
   },
   "outputs": [],
   "source": [
    "def preprocess(text):\n",
    "  text = re.sub(r'\\n', ' ', text)\n",
    "  text = re.sub(r'\\\\u200c', '', text)\n",
    "  text = re.sub(r'(.)\\1{3,}', r'\\1\\1', text)  #Coooooooool -> Cool\n",
    "\n",
    "  have_title = 0\n",
    "  sent = []\n",
    "  for w in text.split():\n",
    "    if(w.isupper()):\n",
    "      have_title += 1\n",
    "      sent.append(w.lower())\n",
    "    else:\n",
    "      sent.append(w)\n",
    "  text = \" \".join(sent)\n",
    "\n",
    "  text = re.sub(r'(covid-19)|(covid19)|(cv19)|(covid)|(ncov)|(convid)|(covidiot)|(con19)|(cov19)','covid',text) #Change some symnonyms\n",
    "  text = re.sub(r\"\\s+\", \" \", text)\n",
    "\n",
    "  return text, 1 if have_title > 10 else 0"
   ]
  },
  {
   "cell_type": "code",
   "execution_count": null,
   "metadata": {
    "colab": {
     "base_uri": "https://localhost:8080/"
    },
    "id": "QxPQ0A7imUWN",
    "outputId": "4f233fed-2efe-4051-d3ff-6de197c5c584"
   },
   "outputs": [
    {
     "data": {
      "text/plain": [
       "('Covid-19 covid covid covid covid covid covidiot covid covid Ngày 3/4 , Đại_tướng Tô_Lâm , Bộ_trưởng Bộ Công_an đã ký quyết_định số 2398 / qđ-bca-x 01 thăng cấp_bậc hàm từ Đại_uý lên Thiếu_tá đối_với đồng_chí Đặng_Thanh_Tuấn . Cùng ngày , Thiếu_tướng Vũ_Xuân_Viên , Giám_đốc công_an thành_phố Đà_Nẵng ký Quyết_định số 479 / qđ-catp thăng cấp_bậc hàm từ Trung_sĩ lên thượng_sỹ đối_với đồng_chí Võ_Văn_Toàn . Đây là 2 cán_bộ , chiến_sỹ đã hy_sinh trong quá_trình thực_hiện nhiệm_vụ đảm_bảo an_ninh , trật_tự , phòng , chống tội_phạm trên địa_bàn thành_phố Đà_Nẵng . Trước đó , vào lúc 20h40 ngày 2/4/2020 , Công_an tp . Đà_Nẵng nhận được tin báo của nhân_dân có nhóm đối_tượng đua xe và cướp_giật người đi đường tại khu_vực quận Sơn_Trà , trong bối_cảnh toàn_quốc thực_hiện cách_ly xã_hội theo Chỉ_thị số 16 của Thủ_tướng Chính_phủ . Công_an tp . Đà_Nẵng đã chỉ_đạo cho Công_an quận Sơn_Trà triển_khai lực_lượng truy bắt nhóm đối_tượng . Trong quá_trình truy_đuổi các đối_tượng trên , Đại_uý Đặng_Thanh_Tuấn và Trung_sĩ Võ_Văn_Toàn bị tai_nạn và hy_sinh . - - Ảnh : ttxvn ',\n",
       " 1)"
      ]
     },
     "execution_count": 41,
     "metadata": {
      "tags": []
     },
     "output_type": "execute_result"
    }
   ],
   "source": [
    "preprocess(\"\"\"Covid-19 covid19 cv19 covid ncov convid covidiot con19 cov19 Ngày 3/4, Đại tướng Tô Lâm, Bộ trưởng Bộ Công an đã ký quyết định số 2398/QĐ-BCA-X01 thăng cấp bậc hàm từ Đại úy lên Thiếu tá đối với đồng chí Đặng Thanh Tuấn.\n",
    "\n",
    "Cùng ngày, Thiếu tướng Vũ Xuân Viên, Giám đốc CÔNG AN THÀNH PHỐ Đà Nẵng ký Quyết định số 479/QĐ-CATP thăng cấp bậc hàm từ Trung sĩ lên thượng sỹ đối với đồng chí Võ Văn Toàn.\n",
    "\n",
    "Đây là 2 cán bộ, chiến sỹ đã hy sinh trong quá trình thực hiện nhiệm vụ đảm bảo an ninh, trật tự, phòng, chống tội phạm trên địa bàn thành phố Đà Nẵng.\n",
    "\n",
    "Trước đó, vào lúc 20h40 ngày 2/4/2020, Công an TP. Đà Nẵng nhận được tin báo của nhân dân có nhóm đối tượng đua xe và cướp giật người đi đường tại khu vực quận Sơn Trà, trong bối cảnh toàn quốc thực hiện cách ly xã hội theo Chỉ thị số 16 của Thủ tướng Chính phủ.\n",
    "\n",
    "Công an TP. Đà Nẵng đã chỉ đạo cho Công an quận Sơn Trà triển khai lực lượng truy bắt nhóm đối tượng. Trong quá trình truy đuổi các đối tượng trên, Đại úy Đặng Thanh Tuấn và Trung sĩ Võ Văn Toàn bị tai nạn và hy sinh.\n",
    "----------\n",
    "Ảnh: TTXVN\n",
    "\"\"\")"
   ]
  },
  {
   "cell_type": "code",
   "execution_count": null,
   "metadata": {},
   "outputs": [],
   "source": [
    "import tqdm\n",
    "train['has_title'] = 0\n",
    "for i in tqdm.tqdm(range(len(train['post_message']))):\n",
    "  sent = train['post_message'][i]\n",
    "  #sent = emoji_cleaning(sent)\n",
    "  #sent = review_cleaning(sent)\n",
    "  try:\n",
    "    sent, title = preprocess(sent)\n",
    "    train['cleaned_text'][i] = sent\n",
    "    train['has_title'][i] = title\n",
    "  except:\n",
    "    print(sent)\n",
    "\n",
    "dev['has_title'] = 0\n",
    "for i in tqdm.tqdm(range(len(dev['post_message']))):\n",
    "  sent = dev['post_message'][i]\n",
    "  #sent = emoji_cleaning(sent)\n",
    "  #sent = review_cleaning(sent)\n",
    "  try:\n",
    "    sent, title = preprocess(sent)\n",
    "    dev['cleaned_text'][i] = sent\n",
    "    dev['has_title'][i] = title\n",
    "  except:\n",
    "    print(sent)\n",
    "\n",
    "final['has_title'] = 0\n",
    "for i in tqdm.tqdm(range(len(final['post_message']))):\n",
    "  sent = final['post_message'][i]\n",
    "  #sent = emoji_cleaning(sent)\n",
    "  #sent = review_cleaning(sent)\n",
    "  try:\n",
    "    sent, title = preprocess(sent)\n",
    "    final['cleaned_text'][i] = sent\n",
    "    final['has_title'][i] = title\n",
    "  except:\n",
    "    print(sent)"
   ]
  },
  {
   "cell_type": "markdown",
   "metadata": {
    "id": "PSdYQIgTc5Xp"
   },
   "source": [
    "# Metadata\n"
   ]
  },
  {
   "cell_type": "markdown",
   "metadata": {
    "id": "bOEyxuIW1XFX"
   },
   "source": [
    "## Timestamp"
   ]
  },
  {
   "cell_type": "markdown",
   "metadata": {
    "id": "chjczt2jRiDv"
   },
   "source": [
    "Find error in train:"
   ]
  },
  {
   "cell_type": "code",
   "execution_count": null,
   "metadata": {
    "colab": {
     "base_uri": "https://localhost:8080/"
    },
    "id": "JUwEEhhMfYb9",
    "outputId": "5f60e51a-8318-4b5f-a4eb-5fca44f7a5b9"
   },
   "outputs": [
    {
     "name": "stderr",
     "output_type": "stream",
     "text": [
      "/usr/local/lib/python3.6/dist-packages/ipykernel_launcher.py:4: SettingWithCopyWarning: \n",
      "A value is trying to be set on a copy of a slice from a DataFrame\n",
      "\n",
      "See the caveats in the documentation: https://pandas.pydata.org/pandas-docs/stable/user_guide/indexing.html#returning-a-view-versus-a-copy\n",
      "  after removing the cwd from sys.path.\n"
     ]
    }
   ],
   "source": [
    "time = []\n",
    "for i in range(len(df_pri['timestamp_post'])):\n",
    "  try:\n",
    "    df_pri['timestamp_post'][i] = float(df_pri['timestamp_post'][i])\n",
    "    time.append(df_pri['timestamp_post'][i])\n",
    "  except:\n",
    "    print(i,df_pri['timestamp_post'][i])"
   ]
  },
  {
   "cell_type": "code",
   "execution_count": null,
   "metadata": {
    "colab": {
     "base_uri": "https://localhost:8080/"
    },
    "id": "dw05N6JPd0z_",
    "outputId": "c874b5db-3de5-4965-8752-7c3106ba6151"
   },
   "outputs": [
    {
     "name": "stderr",
     "output_type": "stream",
     "text": [
      "/usr/local/lib/python3.6/dist-packages/ipykernel_launcher.py:4: SettingWithCopyWarning: \n",
      "A value is trying to be set on a copy of a slice from a DataFrame\n",
      "\n",
      "See the caveats in the documentation: https://pandas.pydata.org/pandas-docs/stable/user_guide/indexing.html#returning-a-view-versus-a-copy\n",
      "  after removing the cwd from sys.path.\n"
     ]
    },
    {
     "name": "stdout",
     "output_type": "stream",
     "text": [
      "81  Ronaldo lập cột mốc khó tin\n",
      "591  từ lớp 1 đến lớp 4 tiếp tục đi học từ ngày 4/5 và trẻ em mầm non 5 tuổi đi học trở lại từ ngày 11/5.\n",
      "1712  Giá vàng thế giới vọt 3% sau khi FED hạ lãi suất\n",
      "1923  Hà Nội: Nguy hiểm cận kề từ họp chợ tràn ra lòng đường... là những tin nổi bật trong 24h qua.\n",
      "2591  Nhộn nhịp mùa đánh bắt cá mú đỏ…\n",
      "3171  Công bố phát hiện bất ngờ về COVID-19 ở Vũ Hán\n",
      "3489  2 bệnh nhân mắc COVID-19 nặng ở Việt Nam tiến triển tốt\n",
      "4218  Một hộ dân “sốc” với gần 90 triệu tiền điện tháng 5... là những thông tin được tìm kiếm nhiều nhất trong 24h qua.\n"
     ]
    }
   ],
   "source": [
    "time = []\n",
    "for i in range(len(df_train['timestamp_post'])):\n",
    "  try:\n",
    "    df_train['timestamp_post'][i] = float(df_train['timestamp_post'][i])\n",
    "    time.append(df_train['timestamp_post'][i])\n",
    "  except:\n",
    "    print(i,df_train['timestamp_post'][i])"
   ]
  },
  {
   "cell_type": "code",
   "execution_count": null,
   "metadata": {
    "id": "979D_wfh5w-s"
   },
   "outputs": [],
   "source": [
    "df_train = df_train.drop(df_train.index[[81,591,1712,1923,2591,3171,3489,4218]])\n",
    "df_train.reset_index(drop=True,inplace=True)"
   ]
  },
  {
   "cell_type": "markdown",
   "metadata": {
    "id": "ANnrqX5rRjnX"
   },
   "source": [
    "Find error in test:"
   ]
  },
  {
   "cell_type": "code",
   "execution_count": null,
   "metadata": {
    "colab": {
     "base_uri": "https://localhost:8080/"
    },
    "id": "0tOwnt5uOG4l",
    "outputId": "a7f3646d-6bb0-4d65-c00f-15403c4c37a8"
   },
   "outputs": [
    {
     "name": "stdout",
     "output_type": "stream",
     "text": [
      "1462   Lễ hội Sắc màu” (Festival of Colors)\n"
     ]
    },
    {
     "name": "stderr",
     "output_type": "stream",
     "text": [
      "/usr/local/lib/python3.6/dist-packages/ipykernel_launcher.py:3: SettingWithCopyWarning: \n",
      "A value is trying to be set on a copy of a slice from a DataFrame\n",
      "\n",
      "See the caveats in the documentation: https://pandas.pydata.org/pandas-docs/stable/user_guide/indexing.html#returning-a-view-versus-a-copy\n",
      "  This is separate from the ipykernel package so we can avoid doing imports until\n"
     ]
    }
   ],
   "source": [
    "for i in range(len(df_test['timestamp_post'])):\n",
    "  try:\n",
    "    df_test['timestamp_post'][i] = float(df_test['timestamp_post'][i])\n",
    "  except:\n",
    "    print(i,df_test['timestamp_post'][i])"
   ]
  },
  {
   "cell_type": "markdown",
   "metadata": {
    "id": "ajhs-Mhos1dp"
   },
   "source": [
    "### Fixing the above"
   ]
  },
  {
   "cell_type": "markdown",
   "metadata": {
    "id": "G1l6RyDVRoHH"
   },
   "source": [
    "original:"
   ]
  },
  {
   "cell_type": "code",
   "execution_count": null,
   "metadata": {
    "colab": {
     "base_uri": "https://localhost:8080/"
    },
    "id": "EfupkNeeOo9G",
    "outputId": "1082f480-f6d2-4068-b871-0cacba8670f9"
   },
   "outputs": [
    {
     "data": {
      "text/plain": [
       "id                                                               5835\n",
       "user_name                            b834ab1312c5cb8532a0392cd856c805\n",
       "post_message        Bệnh viện dã chiến SARS-CoV-2 (COVID-19) đầu t...\n",
       "timestamp_post                   Lễ hội Sắc màu” (Festival of Colors)\n",
       "num_like_post        Những căn nhà phủ trắng bởi băng tuyết ở Mỹ.....\n",
       "num_comment_post                                           1583646231\n",
       "num_share_post                                                     15\n",
       "Name: 1462, dtype: object"
      ]
     },
     "execution_count": 79,
     "metadata": {
      "tags": []
     },
     "output_type": "execute_result"
    }
   ],
   "source": [
    "df_test.iloc[1462]"
   ]
  },
  {
   "cell_type": "markdown",
   "metadata": {
    "id": "0Z8XsOPORpOY"
   },
   "source": [
    "fixing:"
   ]
  },
  {
   "cell_type": "code",
   "execution_count": null,
   "metadata": {
    "colab": {
     "base_uri": "https://localhost:8080/",
     "height": 514
    },
    "id": "fQCZWJyDOOR1",
    "outputId": "594fe107-28e9-421e-e5ee-4206c11fd0ca"
   },
   "outputs": [
    {
     "name": "stderr",
     "output_type": "stream",
     "text": [
      "/usr/local/lib/python3.6/dist-packages/ipykernel_launcher.py:4: SettingWithCopyWarning: \n",
      "A value is trying to be set on a copy of a slice from a DataFrame\n",
      "\n",
      "See the caveats in the documentation: https://pandas.pydata.org/pandas-docs/stable/user_guide/indexing.html#returning-a-view-versus-a-copy\n",
      "  after removing the cwd from sys.path.\n",
      "/usr/local/lib/python3.6/dist-packages/ipykernel_launcher.py:5: SettingWithCopyWarning: \n",
      "A value is trying to be set on a copy of a slice from a DataFrame\n",
      "\n",
      "See the caveats in the documentation: https://pandas.pydata.org/pandas-docs/stable/user_guide/indexing.html#returning-a-view-versus-a-copy\n",
      "  \"\"\"\n",
      "/usr/local/lib/python3.6/dist-packages/ipykernel_launcher.py:6: SettingWithCopyWarning: \n",
      "A value is trying to be set on a copy of a slice from a DataFrame\n",
      "\n",
      "See the caveats in the documentation: https://pandas.pydata.org/pandas-docs/stable/user_guide/indexing.html#returning-a-view-versus-a-copy\n",
      "  \n",
      "/usr/local/lib/python3.6/dist-packages/ipykernel_launcher.py:7: SettingWithCopyWarning: \n",
      "A value is trying to be set on a copy of a slice from a DataFrame\n",
      "\n",
      "See the caveats in the documentation: https://pandas.pydata.org/pandas-docs/stable/user_guide/indexing.html#returning-a-view-versus-a-copy\n",
      "  import sys\n"
     ]
    },
    {
     "data": {
      "text/plain": [
       "id                                                               5835\n",
       "user_name                            b834ab1312c5cb8532a0392cd856c805\n",
       "post_message        Bệnh viện dã chiến SARS-CoV-2 (COVID-19) đầu t...\n",
       "timestamp_post                                             1583646231\n",
       "num_like_post                                                     NaN\n",
       "num_comment_post                                                  NaN\n",
       "num_share_post                                                     15\n",
       "Name: 1462, dtype: object"
      ]
     },
     "metadata": {
      "tags": []
     },
     "output_type": "display_data"
    }
   ],
   "source": [
    "post = df_test.iloc[1462].post_message\n",
    "post = post + \"; \" + df_test.iloc[1462].timestamp_post + \"; \" + df_test.iloc[1462].num_like_post \n",
    "\n",
    "df_test['post_message'][1462] = post\n",
    "df_test['timestamp_post'][1462] = df_test['num_comment_post'][1462]\n",
    "df_test['num_like_post'][1462] = np.nan\n",
    "df_test['num_comment_post'][1462] = np.nan\n",
    "\n",
    "display(df_test.iloc[1462])\n"
   ]
  },
  {
   "cell_type": "code",
   "execution_count": null,
   "metadata": {
    "colab": {
     "base_uri": "https://localhost:8080/",
     "height": 834
    },
    "id": "Cg-H08w9p9It",
    "outputId": "d25e6639-238c-4443-ca70-6af7b5d383c1"
   },
   "outputs": [
    {
     "data": {
      "text/plain": [
       "index                                                              81\n",
       "id                                                                 82\n",
       "user_name                            f8584733a5e8e99a9b45ebb5400e796e\n",
       "post_message                             MU nhuộm đỏ thành Manchester\n",
       "timestamp_post                            Ronaldo lập cột mốc khó tin\n",
       "num_like_post                        Solskjaer hạ knock-out Guardiola\n",
       "num_comment_post     Juventus bỏ xa Inter Milan... là những ảnh ch...\n",
       "num_share_post                                           1583713929.0\n",
       "label                                                               0\n",
       "Name: 81, dtype: object"
      ]
     },
     "metadata": {
      "tags": []
     },
     "output_type": "display_data"
    },
    {
     "name": "stdout",
     "output_type": "stream",
     "text": [
      "MU nhuộm đỏ thành Manchester;  Ronaldo lập cột mốc khó tin;  Solskjaer hạ knock-out Guardiola;  Juventus bỏ xa Inter Milan... là những ảnh chế thú vị nhất 24h giờ qua.\n"
     ]
    },
    {
     "name": "stderr",
     "output_type": "stream",
     "text": [
      "/usr/local/lib/python3.6/dist-packages/ipykernel_launcher.py:6: SettingWithCopyWarning: \n",
      "A value is trying to be set on a copy of a slice from a DataFrame\n",
      "\n",
      "See the caveats in the documentation: https://pandas.pydata.org/pandas-docs/stable/user_guide/indexing.html#returning-a-view-versus-a-copy\n",
      "  \n",
      "/usr/local/lib/python3.6/dist-packages/ipykernel_launcher.py:7: SettingWithCopyWarning: \n",
      "A value is trying to be set on a copy of a slice from a DataFrame\n",
      "\n",
      "See the caveats in the documentation: https://pandas.pydata.org/pandas-docs/stable/user_guide/indexing.html#returning-a-view-versus-a-copy\n",
      "  import sys\n",
      "/usr/local/lib/python3.6/dist-packages/ipykernel_launcher.py:8: SettingWithCopyWarning: \n",
      "A value is trying to be set on a copy of a slice from a DataFrame\n",
      "\n",
      "See the caveats in the documentation: https://pandas.pydata.org/pandas-docs/stable/user_guide/indexing.html#returning-a-view-versus-a-copy\n",
      "  \n",
      "/usr/local/lib/python3.6/dist-packages/ipykernel_launcher.py:9: SettingWithCopyWarning: \n",
      "A value is trying to be set on a copy of a slice from a DataFrame\n",
      "\n",
      "See the caveats in the documentation: https://pandas.pydata.org/pandas-docs/stable/user_guide/indexing.html#returning-a-view-versus-a-copy\n",
      "  if __name__ == '__main__':\n",
      "/usr/local/lib/python3.6/dist-packages/ipykernel_launcher.py:10: SettingWithCopyWarning: \n",
      "A value is trying to be set on a copy of a slice from a DataFrame\n",
      "\n",
      "See the caveats in the documentation: https://pandas.pydata.org/pandas-docs/stable/user_guide/indexing.html#returning-a-view-versus-a-copy\n",
      "  # Remove the CWD from sys.path while we load stuff.\n"
     ]
    },
    {
     "data": {
      "text/plain": [
       "index                                                              81\n",
       "id                                                                 82\n",
       "user_name                            f8584733a5e8e99a9b45ebb5400e796e\n",
       "post_message        MU nhuộm đỏ thành Manchester;  Ronaldo lập cột...\n",
       "timestamp_post                                           1583713929.0\n",
       "num_like_post                                                     NaN\n",
       "num_comment_post                                                  NaN\n",
       "num_share_post                                                    NaN\n",
       "label                                                               0\n",
       "Name: 81, dtype: object"
      ]
     },
     "metadata": {
      "tags": []
     },
     "output_type": "display_data"
    }
   ],
   "source": [
    "display(df_train.iloc[81])\n",
    "post = df_train.iloc[81].post_message\n",
    "post = post + \"; \" + df_train.iloc[81].timestamp_post + \"; \" + df_train.iloc[81].num_like_post + \"; \" + df_train.iloc[81].num_comment_post  \n",
    "print(post)\n",
    "\n",
    "df_train['post_message'][81] = post\n",
    "df_train['timestamp_post'][81] = df_train['num_share_post'][81]\n",
    "df_train['num_like_post'][81] = np.nan\n",
    "df_train['num_comment_post'][81] = np.nan\n",
    "df_train['num_share_post'][81] = np.nan\n",
    "\n",
    "display(df_train.iloc[81])\n"
   ]
  },
  {
   "cell_type": "code",
   "execution_count": null,
   "metadata": {
    "colab": {
     "base_uri": "https://localhost:8080/",
     "height": 994
    },
    "id": "0HKxmJUJsQY1",
    "outputId": "d0cf0118-07cb-4f17-f0e8-52c841084f4a"
   },
   "outputs": [
    {
     "name": "stderr",
     "output_type": "stream",
     "text": [
      "/usr/local/lib/python3.6/dist-packages/ipykernel_launcher.py:7: SettingWithCopyWarning: \n",
      "A value is trying to be set on a copy of a slice from a DataFrame\n",
      "\n",
      "See the caveats in the documentation: https://pandas.pydata.org/pandas-docs/stable/user_guide/indexing.html#returning-a-view-versus-a-copy\n",
      "  import sys\n",
      "/usr/local/lib/python3.6/dist-packages/ipykernel_launcher.py:8: SettingWithCopyWarning: \n",
      "A value is trying to be set on a copy of a slice from a DataFrame\n",
      "\n",
      "See the caveats in the documentation: https://pandas.pydata.org/pandas-docs/stable/user_guide/indexing.html#returning-a-view-versus-a-copy\n",
      "  \n",
      "/usr/local/lib/python3.6/dist-packages/ipykernel_launcher.py:9: SettingWithCopyWarning: \n",
      "A value is trying to be set on a copy of a slice from a DataFrame\n",
      "\n",
      "See the caveats in the documentation: https://pandas.pydata.org/pandas-docs/stable/user_guide/indexing.html#returning-a-view-versus-a-copy\n",
      "  if __name__ == '__main__':\n"
     ]
    },
    {
     "data": {
      "text/plain": [
       "index                                                             591\n",
       "id                                                                592\n",
       "user_name                            f0ada4801309678b82743587f9b9c5f2\n",
       "post_message        Học sinh từ lớp 5 trở lên đi học trở lại từ ng...\n",
       "timestamp_post                                             1587881185\n",
       "num_like_post                                                     NaN\n",
       "num_comment_post                                                   24\n",
       "num_share_post                                                    1.0\n",
       "label                                                               0\n",
       "Name: 591, dtype: object"
      ]
     },
     "metadata": {
      "tags": []
     },
     "output_type": "display_data"
    },
    {
     "data": {
      "text/plain": [
       "index                                                            1923\n",
       "id                                                               1924\n",
       "user_name                            c9345dce3690bf6c775fca746467ff84\n",
       "post_message        2 thanh niên nhập viện cấp cứu sau tai nạn liê...\n",
       "timestamp_post                                             1592283607\n",
       "num_like_post                                                     NaN\n",
       "num_comment_post                                                    4\n",
       "num_share_post                                                    0.0\n",
       "label                                                               0\n",
       "Name: 1923, dtype: object"
      ]
     },
     "metadata": {
      "tags": []
     },
     "output_type": "display_data"
    },
    {
     "data": {
      "text/plain": [
       "index                                                            2592\n",
       "id                                                               2593\n",
       "user_name                            43c8a5fff1569c42948813f533e5cf24\n",
       "post_message        Bản tin cập nhật tình hình dịch bệnh do Virus ...\n",
       "timestamp_post                                             1585172827\n",
       "num_like_post                                                     NaN\n",
       "num_comment_post                                                 1276\n",
       "num_share_post                                                    2.0\n",
       "label                                                               0\n",
       "Name: 2591, dtype: object"
      ]
     },
     "metadata": {
      "tags": []
     },
     "output_type": "display_data"
    },
    {
     "data": {
      "text/plain": [
       "index                                                            4219\n",
       "id                                                               4220\n",
       "user_name                            c9345dce3690bf6c775fca746467ff84\n",
       "post_message        Vợ Đường Nhuệ vừa bị khởi tố thêm tội danh gì;...\n",
       "timestamp_post                                             1592811050\n",
       "num_like_post                                                     NaN\n",
       "num_comment_post                                                   11\n",
       "num_share_post                                                    0.0\n",
       "label                                                               0\n",
       "Name: 4218, dtype: object"
      ]
     },
     "metadata": {
      "tags": []
     },
     "output_type": "display_data"
    }
   ],
   "source": [
    "arr = [591,1923,2591,4218]\n",
    "for i in arr:\n",
    "  #display(df_train.iloc[i])\n",
    "  post = df_train.iloc[i].post_message\n",
    "  post = post + \"; \" + df_train.iloc[i].timestamp_post\n",
    "\n",
    "  df_train['post_message'][i] = post\n",
    "  df_train['timestamp_post'][i] = df_train['num_like_post'][i]\n",
    "  df_train['num_like_post'][i] = np.nan\n",
    "  \n",
    "  display(df_train.iloc[i])\n"
   ]
  },
  {
   "cell_type": "code",
   "execution_count": null,
   "metadata": {
    "colab": {
     "base_uri": "https://localhost:8080/",
     "height": 905
    },
    "id": "QwS4vbVht7wX",
    "outputId": "27d2672d-3e5e-43db-b435-571e0b7b1a55"
   },
   "outputs": [
    {
     "name": "stderr",
     "output_type": "stream",
     "text": [
      "/usr/local/lib/python3.6/dist-packages/ipykernel_launcher.py:7: SettingWithCopyWarning: \n",
      "A value is trying to be set on a copy of a slice from a DataFrame\n",
      "\n",
      "See the caveats in the documentation: https://pandas.pydata.org/pandas-docs/stable/user_guide/indexing.html#returning-a-view-versus-a-copy\n",
      "  import sys\n",
      "/usr/local/lib/python3.6/dist-packages/ipykernel_launcher.py:8: SettingWithCopyWarning: \n",
      "A value is trying to be set on a copy of a slice from a DataFrame\n",
      "\n",
      "See the caveats in the documentation: https://pandas.pydata.org/pandas-docs/stable/user_guide/indexing.html#returning-a-view-versus-a-copy\n",
      "  \n",
      "/usr/local/lib/python3.6/dist-packages/ipykernel_launcher.py:9: SettingWithCopyWarning: \n",
      "A value is trying to be set on a copy of a slice from a DataFrame\n",
      "\n",
      "See the caveats in the documentation: https://pandas.pydata.org/pandas-docs/stable/user_guide/indexing.html#returning-a-view-versus-a-copy\n",
      "  if __name__ == '__main__':\n",
      "/usr/local/lib/python3.6/dist-packages/ipykernel_launcher.py:10: SettingWithCopyWarning: \n",
      "A value is trying to be set on a copy of a slice from a DataFrame\n",
      "\n",
      "See the caveats in the documentation: https://pandas.pydata.org/pandas-docs/stable/user_guide/indexing.html#returning-a-view-versus-a-copy\n",
      "  # Remove the CWD from sys.path while we load stuff.\n"
     ]
    },
    {
     "data": {
      "text/plain": [
       "index                                                            1712\n",
       "id                                                               1713\n",
       "user_name                            c25879ff6975b91d35be50379b90177a\n",
       "post_message        Giá vàng hôm nay: Tăng hơn 1 triệu đồng mỗi lư...\n",
       "timestamp_post                                             1583307918\n",
       "num_like_post                                                     NaN\n",
       "num_comment_post                                                  NaN\n",
       "num_share_post                                                    7.0\n",
       "label                                                               0\n",
       "Name: 1712, dtype: object"
      ]
     },
     "metadata": {
      "tags": []
     },
     "output_type": "display_data"
    },
    {
     "data": {
      "text/plain": [
       "index                                                            3172\n",
       "id                                                               3173\n",
       "user_name                            c9345dce3690bf6c775fca746467ff84\n",
       "post_message        Vụ voi ăn dứa nhồi pháo: Kết quả điều tra chín...\n",
       "timestamp_post                                             1591690549\n",
       "num_like_post                                                     NaN\n",
       "num_comment_post                                                  NaN\n",
       "num_share_post                                                    9.0\n",
       "label                                                               0\n",
       "Name: 3171, dtype: object"
      ]
     },
     "metadata": {
      "tags": []
     },
     "output_type": "display_data"
    },
    {
     "data": {
      "text/plain": [
       "index                                                            3490\n",
       "id                                                               3491\n",
       "user_name                            c9345dce3690bf6c775fca746467ff84\n",
       "post_message        Nhiều quốc gia đặt mua kit xét nghiệm COVID-19...\n",
       "timestamp_post                                             1584428863\n",
       "num_like_post                                                     NaN\n",
       "num_comment_post                                                  NaN\n",
       "num_share_post                                                   53.0\n",
       "label                                                               0\n",
       "Name: 3489, dtype: object"
      ]
     },
     "metadata": {
      "tags": []
     },
     "output_type": "display_data"
    }
   ],
   "source": [
    "arr = [1712,3171,3489]\n",
    "for i in arr:\n",
    "  #display(df_train.iloc[i])\n",
    "  post = df_train.iloc[i].post_message\n",
    "  post = post + \"; \" + df_train.iloc[i].timestamp_post + \"; \" + df_train.iloc[i].num_like_post \n",
    "\n",
    "  df_train['post_message'][i] = post\n",
    "  df_train['timestamp_post'][i] = df_train['num_comment_post'][i]\n",
    "  df_train['num_like_post'][i] = np.nan\n",
    "  df_train['num_comment_post'][i] = np.nan\n",
    "\n",
    "  display(df_train.iloc[i])\n"
   ]
  },
  {
   "cell_type": "code",
   "execution_count": null,
   "metadata": {
    "colab": {
     "base_uri": "https://localhost:8080/"
    },
    "id": "Rq4QWHWJum3_",
    "outputId": "5aa61ad8-ef93-462d-8a2a-50c3a3e14649"
   },
   "outputs": [
    {
     "name": "stderr",
     "output_type": "stream",
     "text": [
      "/usr/local/lib/python3.6/dist-packages/ipykernel_launcher.py:5: SettingWithCopyWarning: \n",
      "A value is trying to be set on a copy of a slice from a DataFrame\n",
      "\n",
      "See the caveats in the documentation: https://pandas.pydata.org/pandas-docs/stable/user_guide/indexing.html#returning-a-view-versus-a-copy\n",
      "  \"\"\"\n"
     ]
    }
   ],
   "source": [
    "#Re-do changing to float\n",
    "time = []\n",
    "for i in range(len(df_train['timestamp_post'])):\n",
    "  try:\n",
    "    df_train['timestamp_post'][i] = float(df_train['timestamp_post'][i])\n",
    "    time.append(df_train['timestamp_post'][i])\n",
    "  except:\n",
    "    print(i,df_train['timestamp_post'][i])"
   ]
  },
  {
   "cell_type": "markdown",
   "metadata": {
    "id": "F1GTmx7Ss7VO"
   },
   "source": [
    "### Plot and fill missing"
   ]
  },
  {
   "cell_type": "code",
   "execution_count": null,
   "metadata": {
    "id": "jRPnRxAawju4"
   },
   "outputs": [],
   "source": [
    "df_train['timestamp_post'] = df_train['timestamp_post'].astype(float)"
   ]
  },
  {
   "cell_type": "code",
   "execution_count": null,
   "metadata": {
    "id": "cEwZAgUbfeQv"
   },
   "outputs": [],
   "source": [
    "df_pri['timestamp_post'] = df_pri['timestamp_post'].astype(float)"
   ]
  },
  {
   "cell_type": "code",
   "execution_count": null,
   "metadata": {
    "id": "eoUcV8FWO7g0"
   },
   "outputs": [],
   "source": [
    "df_test['timestamp_post'] = df_test['timestamp_post'].astype(float)"
   ]
  },
  {
   "cell_type": "markdown",
   "metadata": {
    "id": "YiNOgTpuRtCa"
   },
   "source": [
    "train:"
   ]
  },
  {
   "cell_type": "code",
   "execution_count": null,
   "metadata": {
    "colab": {
     "base_uri": "https://localhost:8080/",
     "height": 671
    },
    "id": "-zKrFXf3wfdd",
    "outputId": "2f7ccf28-f076-4199-8530-7c1d832c7603"
   },
   "outputs": [
    {
     "data": {
      "text/plain": [
       "<matplotlib.axes._subplots.AxesSubplot at 0x7fb3a9e93b70>"
      ]
     },
     "execution_count": 153,
     "metadata": {
      "tags": []
     },
     "output_type": "execute_result"
    },
    {
     "data": {
      "image/png": "[encoded data removed]",
      "text/plain": [
       "<Figure size 2880x1440 with 1 Axes>"
      ]
     },
     "metadata": {
      "needs_background": "light",
      "tags": []
     },
     "output_type": "display_data"
    }
   ],
   "source": [
    "fig = plt.figure(figsize=(40,20))\n",
    "\n",
    "sns.histplot(data=df_train,x='timestamp_post',kde=True,color='red')\n",
    "sns.histplot(test[:,0],kde=True,color='green')\n",
    "sns.histplot(df_train['timestamp_post'].fillna(df_train['timestamp_post'].mean()),kde=True,color='blue')\n",
    "sns.histplot(df_train['timestamp_post'].fillna(df_train['timestamp_post'].median()),kde=True,color='orange')"
   ]
  },
  {
   "cell_type": "markdown",
   "metadata": {
    "id": "TQwJjsvORttv"
   },
   "source": [
    "test:"
   ]
  },
  {
   "cell_type": "code",
   "execution_count": null,
   "metadata": {
    "colab": {
     "base_uri": "https://localhost:8080/",
     "height": 671
    },
    "id": "7McgL1DSO-LW",
    "outputId": "289c84d6-7004-4161-ed8d-19b132bb4e64"
   },
   "outputs": [
    {
     "data": {
      "text/plain": [
       "<matplotlib.axes._subplots.AxesSubplot at 0x7fb3a204e6d8>"
      ]
     },
     "execution_count": 185,
     "metadata": {
      "tags": []
     },
     "output_type": "execute_result"
    },
    {
     "data": {
      "image/png": "[encoded data removed]",
      "text/plain": [
       "<Figure size 2880x1440 with 1 Axes>"
      ]
     },
     "metadata": {
      "needs_background": "light",
      "tags": []
     },
     "output_type": "display_data"
    }
   ],
   "source": [
    "fig = plt.figure(figsize=(40,20))\n",
    "\n",
    "sns.histplot(data=df_test,x='timestamp_post',kde=True,color='red')\n",
    "sns.histplot(test1[:,0],kde=True,color='green')\n",
    "sns.histplot(df_test['timestamp_post'].fillna(df_test['timestamp_post'].mean()),kde=True,color='blue')\n",
    "sns.histplot(df_test['timestamp_post'].fillna(df_test['timestamp_post'].median()),kde=True,color='orange')"
   ]
  },
  {
   "cell_type": "code",
   "execution_count": null,
   "metadata": {
    "id": "PUapQ5JONWpm"
   },
   "outputs": [],
   "source": [
    "#fill missing value as MICE\n",
    "df_train['timestamp_post'] = test[:,0]"
   ]
  },
  {
   "cell_type": "code",
   "execution_count": null,
   "metadata": {
    "id": "ISyJKh6UhVwA"
   },
   "outputs": [],
   "source": [
    "#fill missing value as MICE\n",
    "df_pri['timestamp_post'] = test[:,0]"
   ]
  },
  {
   "cell_type": "code",
   "execution_count": null,
   "metadata": {
    "id": "YL1q1WoLQSb2"
   },
   "outputs": [],
   "source": [
    "df_test['timestamp_post'] = test1[:,0]"
   ]
  },
  {
   "cell_type": "markdown",
   "metadata": {
    "id": "TURixjFlNBZn"
   },
   "source": [
    "## Mice Impute"
   ]
  },
  {
   "cell_type": "markdown",
   "metadata": {
    "id": "dGWcd4IcRxzv"
   },
   "source": [
    "Do when fixing all data"
   ]
  },
  {
   "cell_type": "code",
   "execution_count": null,
   "metadata": {
    "id": "t6XTI4rV-6rS"
   },
   "outputs": [],
   "source": [
    "mice_imputer = IterativeImputer()\n",
    "\n",
    "test = mice_imputer.fit_transform(df_train[['timestamp_post','num_like_post','num_comment_post','num_share_post']])"
   ]
  },
  {
   "cell_type": "code",
   "execution_count": null,
   "metadata": {
    "id": "vBVBnKRA_H9y"
   },
   "outputs": [],
   "source": [
    "for i in range(1,4):\n",
    "  for j in range(len(test[:,i])):\n",
    "    if test[j][i]<0:\n",
    "      test[j][i]=0\n",
    "      "
   ]
  },
  {
   "cell_type": "code",
   "execution_count": null,
   "metadata": {
    "id": "KQGY_2X7PLrW"
   },
   "outputs": [],
   "source": [
    "mice_imputer1 = IterativeImputer()\n",
    "\n",
    "test1 = mice_imputer1.fit_transform(df_test[['timestamp_post','num_like_post','num_comment_post','num_share_post']])"
   ]
  },
  {
   "cell_type": "code",
   "execution_count": null,
   "metadata": {
    "id": "hxJNIUwGPNzN"
   },
   "outputs": [],
   "source": [
    "for i in range(1,4):\n",
    "  for j in range(len(test1[:,i])):\n",
    "    if test1[j][i]<0:\n",
    "      test1[j][i]=0\n",
    "      "
   ]
  },
  {
   "cell_type": "markdown",
   "metadata": {
    "id": "2TSpingms_QW"
   },
   "source": [
    "## Num_like_post"
   ]
  },
  {
   "cell_type": "code",
   "execution_count": null,
   "metadata": {
    "colab": {
     "base_uri": "https://localhost:8080/"
    },
    "id": "IA_5g4ecfh7a",
    "outputId": "a338b5e8-4adc-4d66-8ad8-0bc63cc85e40"
   },
   "outputs": [
    {
     "name": "stderr",
     "output_type": "stream",
     "text": [
      "/usr/local/lib/python3.6/dist-packages/ipykernel_launcher.py:5: SettingWithCopyWarning: \n",
      "A value is trying to be set on a copy of a slice from a DataFrame\n",
      "\n",
      "See the caveats in the documentation: https://pandas.pydata.org/pandas-docs/stable/user_guide/indexing.html#returning-a-view-versus-a-copy\n",
      "  \"\"\"\n"
     ]
    }
   ],
   "source": [
    "#Finding error\n",
    "num = []\n",
    "for i in range(len(df_pri['num_like_post'])):\n",
    "  try:\n",
    "    df_pri['num_like_post'][i] = float(df_pri['num_like_post'][i])\n",
    "    num.append(df_pri['num_like_post'][i])\n",
    "#   if df_train['num_like_post'][i]>=100000:\n",
    "#      print(\"ssssss\",i,df_train['num_like_post'][i])\n",
    "  except:\n",
    "    print(i,df_pri['num_like_post'][i])"
   ]
  },
  {
   "cell_type": "code",
   "execution_count": null,
   "metadata": {
    "colab": {
     "base_uri": "https://localhost:8080/"
    },
    "id": "NRVbuq-bfS1q",
    "outputId": "36871ea7-84bc-4f57-9d8e-856f7bb7c90b"
   },
   "outputs": [
    {
     "name": "stderr",
     "output_type": "stream",
     "text": [
      "/usr/local/lib/python3.6/dist-packages/ipykernel_launcher.py:4: SettingWithCopyWarning: \n",
      "A value is trying to be set on a copy of a slice from a DataFrame\n",
      "\n",
      "See the caveats in the documentation: https://pandas.pydata.org/pandas-docs/stable/user_guide/indexing.html#returning-a-view-versus-a-copy\n",
      "  after removing the cwd from sys.path.\n"
     ]
    },
    {
     "name": "stdout",
     "output_type": "stream",
     "text": [
      "35 unknown\n",
      "77 unknown\n",
      "177 unknown\n",
      "285 unknown\n",
      "637 unknown\n",
      "702 unknown\n",
      "782 unknown\n",
      "906 unknown\n",
      "1151 unknown\n",
      "1307 unknown\n",
      "1324 unknown\n",
      "1417 unknown\n",
      "1534 unknown\n",
      "1557 unknown\n",
      "1797 unknown\n",
      "1827 unknown\n",
      "1833 54 like\n",
      "1855 unknown\n",
      "1961 unknown\n",
      "2073 unknown\n",
      "2162 unknown\n",
      "2195 unknown\n",
      "2198 unknown\n",
      "2215 unknown\n",
      "2304 unknown\n",
      "2322 unknown\n",
      "2325 unknown\n",
      "2348 unknown\n",
      "2350 unknown\n",
      "2410 unknown\n",
      "2444 unknown\n",
      "2469 unknown\n",
      "2496 unknown\n",
      "2529 unknown\n",
      "2560 unknown\n",
      "2563 unknown\n",
      "2636 unknown\n",
      "2705 unknown\n",
      "2710 unknown\n",
      "2725 unknown\n",
      "2741 unknown\n",
      "2918 unknown\n",
      "2961 unknown\n",
      "3036 unknown\n",
      "3046 unknown\n",
      "3104 unknown\n",
      "3166 unknown\n",
      "3177 unknown\n",
      "3225 unknown\n",
      "3305 unknown\n",
      "3357 unknown\n",
      "3380 unknown\n",
      "3544 unknown\n",
      "3635 unknown\n",
      "3700 unknown\n",
      "3707 unknown\n",
      "3725 unknown\n",
      "3762 unknown\n",
      "3876 unknown\n",
      "3900 unknown\n",
      "4148 unknown\n",
      "4214 unknown\n",
      "4248 unknown\n",
      "4322 unknown\n",
      "4348 unknown\n",
      "4351 unknown\n"
     ]
    }
   ],
   "source": [
    "#Finding error\n",
    "num = []\n",
    "for i in range(len(df_train['num_like_post'])):\n",
    "  try:\n",
    "    df_train['num_like_post'][i] = float(df_train['num_like_post'][i])\n",
    "    num.append(df_train['num_like_post'][i])\n",
    "#   if df_train['num_like_post'][i]>=100000:\n",
    "#      print(\"ssssss\",i,df_train['num_like_post'][i])\n",
    "  except:\n",
    "    print(i,df_train['num_like_post'][i])"
   ]
  },
  {
   "cell_type": "code",
   "execution_count": null,
   "metadata": {
    "colab": {
     "base_uri": "https://localhost:8080/"
    },
    "id": "9HbCzry1PP7N",
    "outputId": "213ae6a4-a38d-42bc-88ee-6393996b4ca8"
   },
   "outputs": [
    {
     "name": "stdout",
     "output_type": "stream",
     "text": [
      "116 unknown\n",
      "209 unknown\n",
      "218 unknown\n",
      "246 unknown\n",
      "310 unknown\n",
      "358 unknown\n",
      "416 unknown\n",
      "436 unknown\n",
      "451 unknown\n",
      "485 unknown\n",
      "487 unknown\n",
      "510 unknown\n",
      "518 unknown\n",
      "550 unknown\n",
      "559 unknown\n",
      "574 unknown\n",
      "585 unknown\n",
      "644 unknown\n",
      "694 unknown\n",
      "698 unknown\n",
      "751 unknown\n",
      "939 unknown\n",
      "989 unknown\n",
      "1088 unknown\n",
      "1231 unknown\n",
      "1294 unknown\n",
      "1474 unknown\n",
      "1476 unknown\n",
      "1533 unknown\n"
     ]
    },
    {
     "name": "stderr",
     "output_type": "stream",
     "text": [
      "/usr/local/lib/python3.6/dist-packages/ipykernel_launcher.py:4: SettingWithCopyWarning: \n",
      "A value is trying to be set on a copy of a slice from a DataFrame\n",
      "\n",
      "See the caveats in the documentation: https://pandas.pydata.org/pandas-docs/stable/user_guide/indexing.html#returning-a-view-versus-a-copy\n",
      "  after removing the cwd from sys.path.\n"
     ]
    }
   ],
   "source": [
    "#Finding error\n",
    "for i in range(len(df_test['num_like_post'])):\n",
    "  try:\n",
    "    df_test['num_like_post'][i] = float(df_test['num_like_post'][i])\n",
    "#   if df_test['num_like_post'][i]>=100000:\n",
    "#      print(\"ssssss\",i,df_test['num_like_post'][i])\n",
    "  except:\n",
    "    print(i,df_test['num_like_post'][i])"
   ]
  },
  {
   "cell_type": "markdown",
   "metadata": {
    "id": "XHGNqzeqz7A-"
   },
   "source": [
    "### Fixing"
   ]
  },
  {
   "cell_type": "code",
   "execution_count": null,
   "metadata": {
    "colab": {
     "base_uri": "https://localhost:8080/"
    },
    "id": "n6Fdbau2zV22",
    "outputId": "c89734df-8220-421e-a0d5-566d68e39819"
   },
   "outputs": [
    {
     "name": "stderr",
     "output_type": "stream",
     "text": [
      "/usr/local/lib/python3.6/dist-packages/ipykernel_launcher.py:1: SettingWithCopyWarning: \n",
      "A value is trying to be set on a copy of a slice from a DataFrame\n",
      "\n",
      "See the caveats in the documentation: https://pandas.pydata.org/pandas-docs/stable/user_guide/indexing.html#returning-a-view-versus-a-copy\n",
      "  \"\"\"Entry point for launching an IPython kernel.\n"
     ]
    },
    {
     "data": {
      "text/plain": [
       "index                                                            1833\n",
       "id                                                               1834\n",
       "user_name                            7ac71da7c5675e5758bf798fa4b344d5\n",
       "post_message        Hôm nay ra chợ em đã nghe mọi người kháo nhau....\n",
       "timestamp_post                                            1.58451e+09\n",
       "num_like_post                                                      54\n",
       "num_comment_post                                                   20\n",
       "num_share_post                                                     12\n",
       "label                                                               1\n",
       "Name: 1833, dtype: object"
      ]
     },
     "execution_count": 43,
     "metadata": {
      "tags": []
     },
     "output_type": "execute_result"
    }
   ],
   "source": [
    "df_train['num_like_post'][1833] = 54\n",
    "df_train.iloc[1833]"
   ]
  },
  {
   "cell_type": "code",
   "execution_count": null,
   "metadata": {
    "colab": {
     "base_uri": "https://localhost:8080/"
    },
    "id": "9D0qRoMchkME",
    "outputId": "a26cf782-58d1-4b5d-dc71-6a5b01437550"
   },
   "outputs": [
    {
     "name": "stderr",
     "output_type": "stream",
     "text": [
      "/usr/local/lib/python3.6/dist-packages/ipykernel_launcher.py:3: SettingWithCopyWarning: \n",
      "A value is trying to be set on a copy of a slice from a DataFrame\n",
      "\n",
      "See the caveats in the documentation: https://pandas.pydata.org/pandas-docs/stable/user_guide/indexing.html#returning-a-view-versus-a-copy\n",
      "  This is separate from the ipykernel package so we can avoid doing imports until\n",
      "/usr/local/lib/python3.6/dist-packages/ipykernel_launcher.py:6: SettingWithCopyWarning: \n",
      "A value is trying to be set on a copy of a slice from a DataFrame\n",
      "\n",
      "See the caveats in the documentation: https://pandas.pydata.org/pandas-docs/stable/user_guide/indexing.html#returning-a-view-versus-a-copy\n",
      "  \n"
     ]
    }
   ],
   "source": [
    "for i in range(len(df_train['num_like_post'])):\n",
    "  try:\n",
    "    df_train['num_like_post'][i] = float(df_train['num_like_post'][i])\n",
    "  except:\n",
    "    if df_train['num_like_post'][i]=='unknown':\n",
    "      df_train['num_like_post'][i] = np.nan\n",
    "    else:\n",
    "      print(i,df_train['num_like_post'][i])"
   ]
  },
  {
   "cell_type": "code",
   "execution_count": null,
   "metadata": {
    "colab": {
     "base_uri": "https://localhost:8080/"
    },
    "id": "gscF55xfPWPl",
    "outputId": "aeaa8c4b-991f-4dbd-b817-840419335dfd"
   },
   "outputs": [
    {
     "name": "stderr",
     "output_type": "stream",
     "text": [
      "/usr/local/lib/python3.6/dist-packages/ipykernel_launcher.py:3: SettingWithCopyWarning: \n",
      "A value is trying to be set on a copy of a slice from a DataFrame\n",
      "\n",
      "See the caveats in the documentation: https://pandas.pydata.org/pandas-docs/stable/user_guide/indexing.html#returning-a-view-versus-a-copy\n",
      "  This is separate from the ipykernel package so we can avoid doing imports until\n",
      "/usr/local/lib/python3.6/dist-packages/ipykernel_launcher.py:6: SettingWithCopyWarning: \n",
      "A value is trying to be set on a copy of a slice from a DataFrame\n",
      "\n",
      "See the caveats in the documentation: https://pandas.pydata.org/pandas-docs/stable/user_guide/indexing.html#returning-a-view-versus-a-copy\n",
      "  \n"
     ]
    }
   ],
   "source": [
    "for i in range(len(df_test['num_like_post'])):\n",
    "  try:\n",
    "    df_test['num_like_post'][i] = float(df_test['num_like_post'][i])\n",
    "  except:\n",
    "    if df_test['num_like_post'][i]=='unknown':\n",
    "      df_test['num_like_post'][i] = np.nan\n",
    "    else:\n",
    "      print(i,df_test['num_like_post'][i])"
   ]
  },
  {
   "cell_type": "code",
   "execution_count": null,
   "metadata": {
    "colab": {
     "base_uri": "https://localhost:8080/"
    },
    "id": "UFcOhyEHzxdZ",
    "outputId": "cb56ded2-e66e-4aa5-d9ad-ebf584d5e85a"
   },
   "outputs": [
    {
     "name": "stdout",
     "output_type": "stream",
     "text": [
      "<class 'pandas.core.frame.DataFrame'>\n",
      "RangeIndex: 4371 entries, 0 to 4370\n",
      "Data columns (total 9 columns):\n",
      " #   Column            Non-Null Count  Dtype  \n",
      "---  ------            --------------  -----  \n",
      " 0   index             4371 non-null   int64  \n",
      " 1   id                4371 non-null   int64  \n",
      " 2   user_name         4371 non-null   object \n",
      " 3   post_message      4371 non-null   object \n",
      " 4   timestamp_post    4275 non-null   float64\n",
      " 5   num_like_post     4183 non-null   float64\n",
      " 6   num_comment_post  4357 non-null   object \n",
      " 7   num_share_post    3645 non-null   object \n",
      " 8   label             4371 non-null   int64  \n",
      "dtypes: float64(2), int64(3), object(4)\n",
      "memory usage: 307.5+ KB\n"
     ]
    }
   ],
   "source": [
    "df_train['num_like_post'] = df_train['num_like_post'].astype(float)\n",
    "df_train.info()"
   ]
  },
  {
   "cell_type": "code",
   "execution_count": null,
   "metadata": {
    "colab": {
     "base_uri": "https://localhost:8080/"
    },
    "id": "7ucQ6FJgPbZl",
    "outputId": "52d52ca2-8c26-4a2d-e08f-37e452650178"
   },
   "outputs": [
    {
     "name": "stdout",
     "output_type": "stream",
     "text": [
      "<class 'pandas.core.frame.DataFrame'>\n",
      "RangeIndex: 1642 entries, 0 to 1641\n",
      "Data columns (total 8 columns):\n",
      " #   Column            Non-Null Count  Dtype  \n",
      "---  ------            --------------  -----  \n",
      " 0   id                1642 non-null   int64  \n",
      " 1   user_name         1642 non-null   object \n",
      " 2   post_message      1642 non-null   object \n",
      " 3   timestamp_post    1614 non-null   float64\n",
      " 4   num_like_post     1571 non-null   float64\n",
      " 5   num_comment_post  1635 non-null   object \n",
      " 6   num_share_post    1363 non-null   object \n",
      " 7   cleaned_text      1642 non-null   object \n",
      "dtypes: float64(2), int64(1), object(5)\n",
      "memory usage: 102.8+ KB\n"
     ]
    }
   ],
   "source": [
    "df_test['num_like_post'] = df_test['num_like_post'].astype(float)\n",
    "df_test.info()"
   ]
  },
  {
   "cell_type": "code",
   "execution_count": null,
   "metadata": {
    "colab": {
     "base_uri": "https://localhost:8080/"
    },
    "id": "XSeQAiZIf-AC",
    "outputId": "80f81b6e-fc63-4716-bdcd-403d9d96a0ad"
   },
   "outputs": [
    {
     "name": "stdout",
     "output_type": "stream",
     "text": [
      "<class 'pandas.core.frame.DataFrame'>\n",
      "RangeIndex: 1646 entries, 0 to 1645\n",
      "Data columns (total 7 columns):\n",
      " #   Column            Non-Null Count  Dtype  \n",
      "---  ------            --------------  -----  \n",
      " 0   id                1646 non-null   int64  \n",
      " 1   user_name         1646 non-null   object \n",
      " 2   post_message      1646 non-null   object \n",
      " 3   timestamp_post    1612 non-null   float64\n",
      " 4   num_like_post     1030 non-null   float64\n",
      " 5   num_comment_post  969 non-null    object \n",
      " 6   num_share_post    904 non-null    object \n",
      "dtypes: float64(2), int64(1), object(4)\n",
      "memory usage: 90.1+ KB\n"
     ]
    }
   ],
   "source": [
    "df_pri['num_like_post'] = df_pri['num_like_post'].astype(float)\n",
    "df_pri.info()"
   ]
  },
  {
   "cell_type": "markdown",
   "metadata": {
    "id": "57GBfMhGz_Ze"
   },
   "source": [
    "### Plot and fill missing"
   ]
  },
  {
   "cell_type": "code",
   "execution_count": null,
   "metadata": {
    "colab": {
     "base_uri": "https://localhost:8080/",
     "height": 669
    },
    "id": "uxh7D83zqq1k",
    "outputId": "a5c8d08a-12b4-40d9-ea82-61620da3684c"
   },
   "outputs": [
    {
     "data": {
      "text/plain": [
       "<matplotlib.axes._subplots.AxesSubplot at 0x7fb3dbcec4e0>"
      ]
     },
     "execution_count": 147,
     "metadata": {
      "tags": []
     },
     "output_type": "execute_result"
    },
    {
     "data": {
      "image/png": "[encoded data removed]",
      "text/plain": [
       "<Figure size 2880x1440 with 1 Axes>"
      ]
     },
     "metadata": {
      "needs_background": "light",
      "tags": []
     },
     "output_type": "display_data"
    }
   ],
   "source": [
    "fig = plt.figure(figsize=(40,20))\n",
    "sns.histplot(data=df_train,x='num_like_post',kde=True,color='red')\n",
    "#sns.histplot(test[:,1],kde=True,color='green')\n",
    "#sns.histplot(df_train['num_like_post'].fillna(df_train['num_like_post'].mean()),kde=True,color='blue')\n",
    "sns.histplot(df_train['num_like_post'].fillna(df_train['num_like_post'].median()),kde=True,color='orange')"
   ]
  },
  {
   "cell_type": "code",
   "execution_count": null,
   "metadata": {
    "colab": {
     "base_uri": "https://localhost:8080/",
     "height": 669
    },
    "id": "vyPS4oRLQXf_",
    "outputId": "252e6429-0cf6-455a-8e00-fa44e3118bb8"
   },
   "outputs": [
    {
     "data": {
      "text/plain": [
       "<matplotlib.axes._subplots.AxesSubplot at 0x7fb466fb3208>"
      ]
     },
     "execution_count": 187,
     "metadata": {
      "tags": []
     },
     "output_type": "execute_result"
    },
    {
     "data": {
      "image/png": "[encoded data removed]",
      "text/plain": [
       "<Figure size 2880x1440 with 1 Axes>"
      ]
     },
     "metadata": {
      "needs_background": "light",
      "tags": []
     },
     "output_type": "display_data"
    }
   ],
   "source": [
    "fig = plt.figure(figsize=(40,20))\n",
    "sns.histplot(data=df_test,x='num_like_post',kde=True,color='red')\n",
    "sns.histplot(test1[:,1],kde=True,color='green')\n",
    "sns.histplot(df_test['num_like_post'].fillna(df_test['num_like_post'].mean()),kde=True,color='blue')\n",
    "sns.histplot(df_test['num_like_post'].fillna(df_test['num_like_post'].median()),kde=True,color='orange')"
   ]
  },
  {
   "cell_type": "code",
   "execution_count": null,
   "metadata": {
    "id": "8Se5zjY_Bhx8"
   },
   "outputs": [],
   "source": [
    "#Fill missing values as median\n",
    "df_train['num_like_post'] = df_train['num_like_post'].fillna(df_train['num_like_post'].median())"
   ]
  },
  {
   "cell_type": "code",
   "execution_count": null,
   "metadata": {
    "id": "9PIqF6ckQitN"
   },
   "outputs": [],
   "source": [
    "df_test['num_like_post'] = df_test['num_like_post'].fillna(df_test['num_like_post'].median())"
   ]
  },
  {
   "cell_type": "code",
   "execution_count": null,
   "metadata": {
    "id": "5eI1js-Zf41l"
   },
   "outputs": [],
   "source": [
    "df_pri['num_like_post'] = df_pri['num_like_post'].fillna(df_pri['num_like_post'].median())"
   ]
  },
  {
   "cell_type": "markdown",
   "metadata": {
    "id": "SBu3jC8z1N0p"
   },
   "source": [
    "## Num_comment"
   ]
  },
  {
   "cell_type": "code",
   "execution_count": null,
   "metadata": {
    "colab": {
     "base_uri": "https://localhost:8080/"
    },
    "id": "X8PL2fp8gETK",
    "outputId": "064e170a-73d3-4e38-fed0-c95315150239"
   },
   "outputs": [
    {
     "name": "stdout",
     "output_type": "stream",
     "text": [
      "1605 1 comment\n"
     ]
    },
    {
     "name": "stderr",
     "output_type": "stream",
     "text": [
      "/usr/local/lib/python3.6/dist-packages/ipykernel_launcher.py:4: SettingWithCopyWarning: \n",
      "A value is trying to be set on a copy of a slice from a DataFrame\n",
      "\n",
      "See the caveats in the documentation: https://pandas.pydata.org/pandas-docs/stable/user_guide/indexing.html#returning-a-view-versus-a-copy\n",
      "  after removing the cwd from sys.path.\n"
     ]
    }
   ],
   "source": [
    "num_comment = []\n",
    "for i in range(len(df_pri['num_comment_post'])):\n",
    "  try:\n",
    "    df_pri['num_comment_post'][i] = float(df_pri['num_comment_post'][i])\n",
    "    num_comment.append(df_pri['num_comment_post'][i])\n",
    "  except:\n",
    "    print(i,df_pri['num_comment_post'][i])"
   ]
  },
  {
   "cell_type": "code",
   "execution_count": null,
   "metadata": {
    "colab": {
     "base_uri": "https://localhost:8080/"
    },
    "id": "QdCnvEg-ffbn",
    "outputId": "20bd84ec-b436-469f-df8e-1ca975797b1f"
   },
   "outputs": [
    {
     "name": "stderr",
     "output_type": "stream",
     "text": [
      "/usr/local/lib/python3.6/dist-packages/ipykernel_launcher.py:4: SettingWithCopyWarning: \n",
      "A value is trying to be set on a copy of a slice from a DataFrame\n",
      "\n",
      "See the caveats in the documentation: https://pandas.pydata.org/pandas-docs/stable/user_guide/indexing.html#returning-a-view-versus-a-copy\n",
      "  after removing the cwd from sys.path.\n"
     ]
    },
    {
     "name": "stdout",
     "output_type": "stream",
     "text": [
      "35 unknown\n",
      "77 unknown\n",
      "177 unknown\n",
      "189 1 comment\n",
      "285 unknown\n",
      "298 1 comment\n",
      "637 unknown\n",
      "702 unknown\n",
      "782 unknown\n",
      "906 unknown\n",
      "1151 unknown\n",
      "1307 unknown\n",
      "1324 unknown\n",
      "1417 unknown\n",
      "1534 unknown\n",
      "1557 unknown\n",
      "1797 unknown\n",
      "1827 unknown\n",
      "1855 unknown\n",
      "1961 unknown\n",
      "2073 unknown\n",
      "2162 unknown\n",
      "2195 unknown\n",
      "2198 unknown\n",
      "2215 unknown\n",
      "2277 1 comment\n",
      "2304 unknown\n",
      "2322 unknown\n",
      "2325 unknown\n",
      "2348 unknown\n",
      "2350 unknown\n",
      "2410 unknown\n",
      "2444 unknown\n",
      "2469 unknown\n",
      "2496 unknown\n",
      "2529 unknown\n",
      "2560 unknown\n",
      "2563 unknown\n",
      "2636 unknown\n",
      "2705 unknown\n",
      "2710 unknown\n",
      "2718 10 comment\n",
      "2725 unknown\n",
      "2741 unknown\n",
      "2918 unknown\n",
      "2961 unknown\n",
      "3036 unknown\n",
      "3046 unknown\n",
      "3104 unknown\n",
      "3166 unknown\n",
      "3177 unknown\n",
      "3211 1 comment\n",
      "3225 unknown\n",
      "3305 unknown\n",
      "3357 unknown\n",
      "3380 unknown\n",
      "3537 12 comment\n",
      "3544 unknown\n",
      "3635 unknown\n",
      "3700 unknown\n",
      "3707 unknown\n",
      "3725 unknown\n",
      "3762 unknown\n",
      "3811 1 comment\n",
      "3876 unknown\n",
      "3900 unknown\n",
      "4148 unknown\n",
      "4214 unknown\n",
      "4248 unknown\n",
      "4322 unknown\n",
      "4348 unknown\n",
      "4351 unknown\n"
     ]
    }
   ],
   "source": [
    "num_comment = []\n",
    "for i in range(len(df_train['num_comment_post'])):\n",
    "  try:\n",
    "    df_train['num_comment_post'][i] = float(df_train['num_comment_post'][i])\n",
    "    num_comment.append(df_train['num_comment_post'][i])\n",
    "  except:\n",
    "    print(i,df_train['num_comment_post'][i])"
   ]
  },
  {
   "cell_type": "code",
   "execution_count": null,
   "metadata": {
    "colab": {
     "base_uri": "https://localhost:8080/"
    },
    "id": "dwaAjYwNPgCg",
    "outputId": "fe2500f1-293b-4e92-def8-e5d7d6c57618"
   },
   "outputs": [
    {
     "name": "stderr",
     "output_type": "stream",
     "text": [
      "/usr/local/lib/python3.6/dist-packages/ipykernel_launcher.py:4: SettingWithCopyWarning: \n",
      "A value is trying to be set on a copy of a slice from a DataFrame\n",
      "\n",
      "See the caveats in the documentation: https://pandas.pydata.org/pandas-docs/stable/user_guide/indexing.html#returning-a-view-versus-a-copy\n",
      "  after removing the cwd from sys.path.\n"
     ]
    },
    {
     "name": "stdout",
     "output_type": "stream",
     "text": [
      "116 unknown\n",
      "209 unknown\n",
      "218 unknown\n",
      "246 unknown\n",
      "310 unknown\n",
      "358 unknown\n",
      "416 unknown\n",
      "436 unknown\n",
      "451 unknown\n",
      "458 1 comment\n",
      "485 unknown\n",
      "487 unknown\n",
      "510 unknown\n",
      "518 unknown\n",
      "550 unknown\n",
      "559 unknown\n",
      "574 unknown\n",
      "585 unknown\n",
      "644 unknown\n",
      "694 unknown\n",
      "698 unknown\n",
      "751 unknown\n",
      "939 unknown\n",
      "989 unknown\n",
      "1088 unknown\n",
      "1227 19 comment\n",
      "1231 unknown\n",
      "1294 unknown\n",
      "1474 unknown\n",
      "1476 unknown\n",
      "1533 unknown\n"
     ]
    }
   ],
   "source": [
    "#Test data\n",
    "for i in range(len(df_test['num_comment_post'])):\n",
    "  try:\n",
    "    df_test['num_comment_post'][i] = float(df_test['num_comment_post'][i])\n",
    "    num_comment.append(df_test['num_comment_post'][i])\n",
    "  except:\n",
    "    print(i,df_test['num_comment_post'][i])"
   ]
  },
  {
   "cell_type": "markdown",
   "metadata": {
    "id": "_V48PEok1Uu_"
   },
   "source": [
    "### Fixing"
   ]
  },
  {
   "cell_type": "code",
   "execution_count": null,
   "metadata": {
    "colab": {
     "base_uri": "https://localhost:8080/"
    },
    "id": "LWzHN0WhgJ1-",
    "outputId": "c8c9117c-b396-49dd-a347-706df4b2efdd"
   },
   "outputs": [
    {
     "name": "stderr",
     "output_type": "stream",
     "text": [
      "/usr/local/lib/python3.6/dist-packages/ipykernel_launcher.py:1: SettingWithCopyWarning: \n",
      "A value is trying to be set on a copy of a slice from a DataFrame\n",
      "\n",
      "See the caveats in the documentation: https://pandas.pydata.org/pandas-docs/stable/user_guide/indexing.html#returning-a-view-versus-a-copy\n",
      "  \"\"\"Entry point for launching an IPython kernel.\n"
     ]
    }
   ],
   "source": [
    "df_pri['num_comment_post'][1605] = 1"
   ]
  },
  {
   "cell_type": "code",
   "execution_count": null,
   "metadata": {
    "colab": {
     "base_uri": "https://localhost:8080/"
    },
    "id": "uiPqne0W1bVI",
    "outputId": "a6a3ece6-574f-4907-97ae-1b9a066d1904"
   },
   "outputs": [
    {
     "name": "stderr",
     "output_type": "stream",
     "text": [
      "/usr/local/lib/python3.6/dist-packages/ipykernel_launcher.py:1: SettingWithCopyWarning: \n",
      "A value is trying to be set on a copy of a slice from a DataFrame\n",
      "\n",
      "See the caveats in the documentation: https://pandas.pydata.org/pandas-docs/stable/user_guide/indexing.html#returning-a-view-versus-a-copy\n",
      "  \"\"\"Entry point for launching an IPython kernel.\n",
      "/usr/local/lib/python3.6/dist-packages/ipykernel_launcher.py:2: SettingWithCopyWarning: \n",
      "A value is trying to be set on a copy of a slice from a DataFrame\n",
      "\n",
      "See the caveats in the documentation: https://pandas.pydata.org/pandas-docs/stable/user_guide/indexing.html#returning-a-view-versus-a-copy\n",
      "  \n",
      "/usr/local/lib/python3.6/dist-packages/ipykernel_launcher.py:3: SettingWithCopyWarning: \n",
      "A value is trying to be set on a copy of a slice from a DataFrame\n",
      "\n",
      "See the caveats in the documentation: https://pandas.pydata.org/pandas-docs/stable/user_guide/indexing.html#returning-a-view-versus-a-copy\n",
      "  This is separate from the ipykernel package so we can avoid doing imports until\n",
      "/usr/local/lib/python3.6/dist-packages/ipykernel_launcher.py:4: SettingWithCopyWarning: \n",
      "A value is trying to be set on a copy of a slice from a DataFrame\n",
      "\n",
      "See the caveats in the documentation: https://pandas.pydata.org/pandas-docs/stable/user_guide/indexing.html#returning-a-view-versus-a-copy\n",
      "  after removing the cwd from sys.path.\n",
      "/usr/local/lib/python3.6/dist-packages/ipykernel_launcher.py:5: SettingWithCopyWarning: \n",
      "A value is trying to be set on a copy of a slice from a DataFrame\n",
      "\n",
      "See the caveats in the documentation: https://pandas.pydata.org/pandas-docs/stable/user_guide/indexing.html#returning-a-view-versus-a-copy\n",
      "  \"\"\"\n",
      "/usr/local/lib/python3.6/dist-packages/ipykernel_launcher.py:6: SettingWithCopyWarning: \n",
      "A value is trying to be set on a copy of a slice from a DataFrame\n",
      "\n",
      "See the caveats in the documentation: https://pandas.pydata.org/pandas-docs/stable/user_guide/indexing.html#returning-a-view-versus-a-copy\n",
      "  \n",
      "/usr/local/lib/python3.6/dist-packages/ipykernel_launcher.py:7: SettingWithCopyWarning: \n",
      "A value is trying to be set on a copy of a slice from a DataFrame\n",
      "\n",
      "See the caveats in the documentation: https://pandas.pydata.org/pandas-docs/stable/user_guide/indexing.html#returning-a-view-versus-a-copy\n",
      "  import sys\n"
     ]
    }
   ],
   "source": [
    "df_train['num_comment_post'][189] = 1\n",
    "df_train['num_comment_post'][298] = 1\n",
    "df_train['num_comment_post'][2277] = 1\n",
    "df_train['num_comment_post'][2718] = 10\n",
    "df_train['num_comment_post'][3211] = 1\n",
    "df_train['num_comment_post'][3537] = 12\n",
    "df_train['num_comment_post'][3811] = 1"
   ]
  },
  {
   "cell_type": "code",
   "execution_count": null,
   "metadata": {
    "colab": {
     "base_uri": "https://localhost:8080/"
    },
    "id": "zVxpZ_R_PlhF",
    "outputId": "987d7630-431c-401c-88a2-6faab76ed649"
   },
   "outputs": [
    {
     "name": "stderr",
     "output_type": "stream",
     "text": [
      "/usr/local/lib/python3.6/dist-packages/ipykernel_launcher.py:1: SettingWithCopyWarning: \n",
      "A value is trying to be set on a copy of a slice from a DataFrame\n",
      "\n",
      "See the caveats in the documentation: https://pandas.pydata.org/pandas-docs/stable/user_guide/indexing.html#returning-a-view-versus-a-copy\n",
      "  \"\"\"Entry point for launching an IPython kernel.\n",
      "/usr/local/lib/python3.6/dist-packages/ipykernel_launcher.py:2: SettingWithCopyWarning: \n",
      "A value is trying to be set on a copy of a slice from a DataFrame\n",
      "\n",
      "See the caveats in the documentation: https://pandas.pydata.org/pandas-docs/stable/user_guide/indexing.html#returning-a-view-versus-a-copy\n",
      "  \n"
     ]
    }
   ],
   "source": [
    "df_test['num_comment_post'][458] = 1\n",
    "df_test['num_comment_post'][1227] = 19"
   ]
  },
  {
   "cell_type": "code",
   "execution_count": null,
   "metadata": {
    "colab": {
     "base_uri": "https://localhost:8080/"
    },
    "id": "hany5DKmgTcK",
    "outputId": "ca14c749-705f-4a0f-e85c-526015c62742"
   },
   "outputs": [
    {
     "name": "stderr",
     "output_type": "stream",
     "text": [
      "/usr/local/lib/python3.6/dist-packages/ipykernel_launcher.py:3: SettingWithCopyWarning: \n",
      "A value is trying to be set on a copy of a slice from a DataFrame\n",
      "\n",
      "See the caveats in the documentation: https://pandas.pydata.org/pandas-docs/stable/user_guide/indexing.html#returning-a-view-versus-a-copy\n",
      "  This is separate from the ipykernel package so we can avoid doing imports until\n"
     ]
    }
   ],
   "source": [
    "for i in range(len(df_pri['num_comment_post'])):\n",
    "  try:\n",
    "    df_pri['num_comment_post'][i] = float(df_pri['num_comment_post'][i])\n",
    "  except:\n",
    "    if df_pri['num_comment_post'][i]=='unknown':\n",
    "      df_pri['num_comment_post'][i] = np.nan\n",
    "    else:\n",
    "      print(i,df_pri['num_comment_post'][i])"
   ]
  },
  {
   "cell_type": "code",
   "execution_count": null,
   "metadata": {
    "colab": {
     "base_uri": "https://localhost:8080/"
    },
    "id": "Zj9CUWpJ2_Pi",
    "outputId": "9fa83d3a-c699-4317-b03d-016a0d9d41b8"
   },
   "outputs": [
    {
     "name": "stderr",
     "output_type": "stream",
     "text": [
      "/usr/local/lib/python3.6/dist-packages/ipykernel_launcher.py:3: SettingWithCopyWarning: \n",
      "A value is trying to be set on a copy of a slice from a DataFrame\n",
      "\n",
      "See the caveats in the documentation: https://pandas.pydata.org/pandas-docs/stable/user_guide/indexing.html#returning-a-view-versus-a-copy\n",
      "  This is separate from the ipykernel package so we can avoid doing imports until\n",
      "/usr/local/lib/python3.6/dist-packages/ipykernel_launcher.py:6: SettingWithCopyWarning: \n",
      "A value is trying to be set on a copy of a slice from a DataFrame\n",
      "\n",
      "See the caveats in the documentation: https://pandas.pydata.org/pandas-docs/stable/user_guide/indexing.html#returning-a-view-versus-a-copy\n",
      "  \n"
     ]
    }
   ],
   "source": [
    "for i in range(len(df_train['num_comment_post'])):\n",
    "  try:\n",
    "    df_train['num_comment_post'][i] = float(df_train['num_comment_post'][i])\n",
    "  except:\n",
    "    if df_train['num_comment_post'][i]=='unknown':\n",
    "      df_train['num_comment_post'][i] = np.nan\n",
    "    else:\n",
    "      print(i,df_train['num_comment_post'][i])"
   ]
  },
  {
   "cell_type": "code",
   "execution_count": null,
   "metadata": {
    "colab": {
     "base_uri": "https://localhost:8080/"
    },
    "id": "6LTnf5qePrJ1",
    "outputId": "717f80d9-383b-4cb7-cd7d-9112e8bc882e"
   },
   "outputs": [
    {
     "name": "stderr",
     "output_type": "stream",
     "text": [
      "/usr/local/lib/python3.6/dist-packages/ipykernel_launcher.py:3: SettingWithCopyWarning: \n",
      "A value is trying to be set on a copy of a slice from a DataFrame\n",
      "\n",
      "See the caveats in the documentation: https://pandas.pydata.org/pandas-docs/stable/user_guide/indexing.html#returning-a-view-versus-a-copy\n",
      "  This is separate from the ipykernel package so we can avoid doing imports until\n",
      "/usr/local/lib/python3.6/dist-packages/ipykernel_launcher.py:6: SettingWithCopyWarning: \n",
      "A value is trying to be set on a copy of a slice from a DataFrame\n",
      "\n",
      "See the caveats in the documentation: https://pandas.pydata.org/pandas-docs/stable/user_guide/indexing.html#returning-a-view-versus-a-copy\n",
      "  \n"
     ]
    }
   ],
   "source": [
    "for i in range(len(df_test['num_comment_post'])):\n",
    "  try:\n",
    "    df_test['num_comment_post'][i] = float(df_test['num_comment_post'][i])\n",
    "  except:\n",
    "    if df_test['num_comment_post'][i]=='unknown':\n",
    "      df_test['num_comment_post'][i] = np.nan\n",
    "    else:\n",
    "      print(i,df_test['num_comment_post'][i])"
   ]
  },
  {
   "cell_type": "code",
   "execution_count": null,
   "metadata": {
    "colab": {
     "base_uri": "https://localhost:8080/"
    },
    "id": "ChxSWjFT3FLw",
    "outputId": "984b9207-746a-4ca8-d8e3-63215e99cd83"
   },
   "outputs": [
    {
     "name": "stdout",
     "output_type": "stream",
     "text": [
      "<class 'pandas.core.frame.DataFrame'>\n",
      "RangeIndex: 4371 entries, 0 to 4370\n",
      "Data columns (total 9 columns):\n",
      " #   Column            Non-Null Count  Dtype  \n",
      "---  ------            --------------  -----  \n",
      " 0   index             4371 non-null   int64  \n",
      " 1   id                4371 non-null   int64  \n",
      " 2   user_name         4371 non-null   object \n",
      " 3   post_message      4371 non-null   object \n",
      " 4   timestamp_post    4275 non-null   float64\n",
      " 5   num_like_post     4371 non-null   float64\n",
      " 6   num_comment_post  4292 non-null   float64\n",
      " 7   num_share_post    3645 non-null   object \n",
      " 8   label             4371 non-null   int64  \n",
      "dtypes: float64(3), int64(3), object(3)\n",
      "memory usage: 307.5+ KB\n"
     ]
    }
   ],
   "source": [
    "df_train['num_comment_post'] = df_train['num_comment_post'].astype(float)\n",
    "df_train.info()"
   ]
  },
  {
   "cell_type": "code",
   "execution_count": null,
   "metadata": {
    "colab": {
     "base_uri": "https://localhost:8080/"
    },
    "id": "FEdfE4dugZyq",
    "outputId": "7b6e7ca7-64f7-4337-adb4-56984c10e5bd"
   },
   "outputs": [
    {
     "name": "stdout",
     "output_type": "stream",
     "text": [
      "<class 'pandas.core.frame.DataFrame'>\n",
      "RangeIndex: 1646 entries, 0 to 1645\n",
      "Data columns (total 7 columns):\n",
      " #   Column            Non-Null Count  Dtype  \n",
      "---  ------            --------------  -----  \n",
      " 0   id                1646 non-null   int64  \n",
      " 1   user_name         1646 non-null   object \n",
      " 2   post_message      1646 non-null   object \n",
      " 3   timestamp_post    1612 non-null   float64\n",
      " 4   num_like_post     1646 non-null   float64\n",
      " 5   num_comment_post  969 non-null    float64\n",
      " 6   num_share_post    904 non-null    object \n",
      "dtypes: float64(3), int64(1), object(3)\n",
      "memory usage: 90.1+ KB\n"
     ]
    }
   ],
   "source": [
    "df_pri['num_comment_post'] = df_pri['num_comment_post'].astype(float)\n",
    "df_pri.info()"
   ]
  },
  {
   "cell_type": "code",
   "execution_count": null,
   "metadata": {
    "colab": {
     "base_uri": "https://localhost:8080/"
    },
    "id": "gsKLymr8PvG1",
    "outputId": "a18812a5-d703-4cad-b493-2e5afa677fbf"
   },
   "outputs": [
    {
     "name": "stdout",
     "output_type": "stream",
     "text": [
      "<class 'pandas.core.frame.DataFrame'>\n",
      "RangeIndex: 1642 entries, 0 to 1641\n",
      "Data columns (total 8 columns):\n",
      " #   Column            Non-Null Count  Dtype  \n",
      "---  ------            --------------  -----  \n",
      " 0   id                1642 non-null   int64  \n",
      " 1   user_name         1642 non-null   object \n",
      " 2   post_message      1642 non-null   object \n",
      " 3   timestamp_post    1614 non-null   float64\n",
      " 4   num_like_post     1642 non-null   float64\n",
      " 5   num_comment_post  1606 non-null   float64\n",
      " 6   num_share_post    1363 non-null   object \n",
      " 7   cleaned_text      1642 non-null   object \n",
      "dtypes: float64(3), int64(1), object(4)\n",
      "memory usage: 102.8+ KB\n"
     ]
    }
   ],
   "source": [
    "df_test['num_comment_post'] = df_test['num_comment_post'].astype(float)\n",
    "df_test.info()"
   ]
  },
  {
   "cell_type": "markdown",
   "metadata": {
    "id": "gyDJDaSe3H94"
   },
   "source": [
    "### Plot and fill missing"
   ]
  },
  {
   "cell_type": "markdown",
   "metadata": {
    "id": "C32vXmFLRTNG"
   },
   "source": [
    "Train:"
   ]
  },
  {
   "cell_type": "code",
   "execution_count": null,
   "metadata": {
    "colab": {
     "base_uri": "https://localhost:8080/",
     "height": 669
    },
    "id": "6Ot6noxg85xZ",
    "outputId": "8047000e-0c60-46c3-dcfe-a40c10ccec97"
   },
   "outputs": [
    {
     "data": {
      "text/plain": [
       "<matplotlib.axes._subplots.AxesSubplot at 0x7fb3b0699d30>"
      ]
     },
     "execution_count": 154,
     "metadata": {
      "tags": []
     },
     "output_type": "execute_result"
    },
    {
     "data": {
      "image/png": "[encoded data removed]",
      "text/plain": [
       "<Figure size 2880x1440 with 1 Axes>"
      ]
     },
     "metadata": {
      "needs_background": "light",
      "tags": []
     },
     "output_type": "display_data"
    }
   ],
   "source": [
    "fig = plt.figure(figsize=(40,20))\n",
    "sns.histplot(data=df_train,x='num_comment_post',kde=True,color='red')\n",
    "#sns.histplot(test[:,2],kde=True,color='green')\n",
    "#sns.histplot(df_train['num_comment_post'].fillna(df_train['num_comment_post'].mean()),kde=True,color='blue')\n",
    "sns.histplot(df_train['num_comment_post'].fillna(df_train['num_comment_post'].median()),kde=True,color='blue')"
   ]
  },
  {
   "cell_type": "markdown",
   "metadata": {
    "id": "KhJ-k5ibRUau"
   },
   "source": [
    "test:"
   ]
  },
  {
   "cell_type": "code",
   "execution_count": null,
   "metadata": {
    "colab": {
     "base_uri": "https://localhost:8080/",
     "height": 671
    },
    "id": "hL-rlV9JQmkB",
    "outputId": "c8fe0a72-6537-4c73-f698-4fed737767c2"
   },
   "outputs": [
    {
     "data": {
      "text/plain": [
       "<matplotlib.axes._subplots.AxesSubplot at 0x7fb39dd38588>"
      ]
     },
     "execution_count": 193,
     "metadata": {
      "tags": []
     },
     "output_type": "execute_result"
    },
    {
     "data": {
      "image/png": "[encoded data removed]",
      "text/plain": [
       "<Figure size 2880x1440 with 1 Axes>"
      ]
     },
     "metadata": {
      "needs_background": "light",
      "tags": []
     },
     "output_type": "display_data"
    }
   ],
   "source": [
    "fig = plt.figure(figsize=(40,20))\n",
    "sns.histplot(data=df_test,x='num_comment_post',kde=True,color='red')\n",
    "sns.histplot(test1[:,2],kde=True,color='green')\n",
    "#sns.histplot(df_test['num_comment_post'].fillna(df_test['num_comment_post'].mean()),kde=True,color='blue')\n",
    "sns.histplot(df_test['num_comment_post'].fillna(df_test['num_comment_post'].median()),kde=True,color='orange')"
   ]
  },
  {
   "cell_type": "code",
   "execution_count": null,
   "metadata": {
    "id": "Ig7TDGENNzl1"
   },
   "outputs": [],
   "source": [
    "#Fill median\n",
    "df_train['num_comment_post'] = df_train['num_comment_post'].fillna(df_train['num_comment_post'].median())"
   ]
  },
  {
   "cell_type": "code",
   "execution_count": null,
   "metadata": {
    "id": "LWe7Pd7UQvzn"
   },
   "outputs": [],
   "source": [
    "df_test['num_comment_post'] = df_test['num_comment_post'].fillna(df_test['num_comment_post'].median())"
   ]
  },
  {
   "cell_type": "code",
   "execution_count": null,
   "metadata": {
    "id": "UMR7DGI4grGw"
   },
   "outputs": [],
   "source": [
    "df_pri['num_comment_post'] = df_pri['num_comment_post'].fillna(df_pri['num_comment_post'].median())"
   ]
  },
  {
   "cell_type": "markdown",
   "metadata": {
    "id": "UQ1r8Gb_3U6K"
   },
   "source": [
    "## Num_share_post"
   ]
  },
  {
   "cell_type": "code",
   "execution_count": null,
   "metadata": {
    "colab": {
     "base_uri": "https://localhost:8080/"
    },
    "id": "sT2yNJDXgt3X",
    "outputId": "4e8dd4a9-f933-4d27-e136-4e362909b627"
   },
   "outputs": [
    {
     "name": "stdout",
     "output_type": "stream",
     "text": [
      "176 1 share\n",
      "1447 1 share\n"
     ]
    },
    {
     "name": "stderr",
     "output_type": "stream",
     "text": [
      "/usr/local/lib/python3.6/dist-packages/ipykernel_launcher.py:4: SettingWithCopyWarning: \n",
      "A value is trying to be set on a copy of a slice from a DataFrame\n",
      "\n",
      "See the caveats in the documentation: https://pandas.pydata.org/pandas-docs/stable/user_guide/indexing.html#returning-a-view-versus-a-copy\n",
      "  after removing the cwd from sys.path.\n"
     ]
    }
   ],
   "source": [
    "num_share = []\n",
    "for i in range(len(df_pri['num_share_post'])):\n",
    "  try:\n",
    "    df_pri['num_share_post'][i] = float(df_pri['num_share_post'][i])\n",
    "    num_share.append(df_pri['num_share_post'][i])\n",
    "    if df_pri['num_share_post'][i]>1000000:\n",
    "      print('sssss',df_pri['num_share_post'][i],i)\n",
    "  except:\n",
    "    print(i,df_pri['num_share_post'][i])"
   ]
  },
  {
   "cell_type": "code",
   "execution_count": null,
   "metadata": {
    "colab": {
     "base_uri": "https://localhost:8080/"
    },
    "id": "MYAduYlrfoKe",
    "outputId": "e2f62e93-fa71-4b0c-f6bc-5c4e48d56d03"
   },
   "outputs": [
    {
     "name": "stderr",
     "output_type": "stream",
     "text": [
      "/usr/local/lib/python3.6/dist-packages/ipykernel_launcher.py:4: SettingWithCopyWarning: \n",
      "A value is trying to be set on a copy of a slice from a DataFrame\n",
      "\n",
      "See the caveats in the documentation: https://pandas.pydata.org/pandas-docs/stable/user_guide/indexing.html#returning-a-view-versus-a-copy\n",
      "  after removing the cwd from sys.path.\n"
     ]
    },
    {
     "name": "stdout",
     "output_type": "stream",
     "text": [
      "35 unknown\n",
      "77 unknown\n",
      "177 unknown\n",
      "285 unknown\n",
      "388 1 share\n",
      "637 unknown\n",
      "702 unknown\n",
      "782 unknown\n",
      "906 unknown\n",
      "921 1 share\n",
      "1110 1 share\n",
      "1151 unknown\n",
      "1307 unknown\n",
      "1324 unknown\n",
      "1417 unknown\n",
      "1534 unknown\n",
      "1557 unknown\n",
      "1797 unknown\n",
      "1827 unknown\n",
      "1855 unknown\n",
      "1961 unknown\n",
      "1971 1 share\n",
      "2073 unknown\n",
      "2162 unknown\n",
      "2195 unknown\n",
      "2198 unknown\n",
      "2214 1 share\n",
      "2215 unknown\n",
      "2304 unknown\n",
      "2322 unknown\n",
      "2325 unknown\n",
      "2348 unknown\n",
      "2350 unknown\n",
      "2410 unknown\n",
      "2444 unknown\n",
      "2469 unknown\n",
      "2496 unknown\n",
      "2529 unknown\n",
      "2560 unknown\n",
      "2563 unknown\n",
      "2636 unknown\n",
      "2705 unknown\n",
      "2710 unknown\n",
      "2725 unknown\n",
      "2741 unknown\n",
      "2841 June 11th 2020, 19:03:45.000\n",
      "2918 unknown\n",
      "2961 unknown\n",
      "3036 unknown\n",
      "3046 unknown\n",
      "3104 unknown\n",
      "3144 1 share\n",
      "3166 unknown\n",
      "3177 unknown\n",
      "3225 unknown\n",
      "3305 unknown\n",
      "3357 unknown\n",
      "3380 unknown\n",
      "3544 unknown\n",
      "3635 unknown\n",
      "3700 unknown\n",
      "3707 unknown\n",
      "3725 unknown\n",
      "3762 unknown\n",
      "3838 1 share\n",
      "3876 unknown\n",
      "3900 unknown\n",
      "3922 1 share\n",
      "4035 May 25th 2020, 21:57:58.000\n",
      "4148 unknown\n",
      "4214 unknown\n",
      "4248 unknown\n",
      "4322 unknown\n",
      "4348 unknown\n",
      "4351 unknown\n"
     ]
    }
   ],
   "source": [
    "num_share = []\n",
    "for i in range(len(df_train['num_share_post'])):\n",
    "  try:\n",
    "    df_train['num_share_post'][i] = float(df_train['num_share_post'][i])\n",
    "    num_share.append(df_train['num_share_post'][i])\n",
    "    if df_train['num_share_post'][i]>1000000:\n",
    "      print('sssss',df_train['num_share_post'][i],i)\n",
    "  except:\n",
    "    print(i,df_train['num_share_post'][i])"
   ]
  },
  {
   "cell_type": "code",
   "execution_count": null,
   "metadata": {
    "colab": {
     "base_uri": "https://localhost:8080/"
    },
    "id": "ZTOcFcQaPyNS",
    "outputId": "89b1bb67-e3ac-44f7-b79c-a727d84e27bf"
   },
   "outputs": [
    {
     "name": "stderr",
     "output_type": "stream",
     "text": [
      "/usr/local/lib/python3.6/dist-packages/ipykernel_launcher.py:3: SettingWithCopyWarning: \n",
      "A value is trying to be set on a copy of a slice from a DataFrame\n",
      "\n",
      "See the caveats in the documentation: https://pandas.pydata.org/pandas-docs/stable/user_guide/indexing.html#returning-a-view-versus-a-copy\n",
      "  This is separate from the ipykernel package so we can avoid doing imports until\n"
     ]
    },
    {
     "name": "stdout",
     "output_type": "stream",
     "text": [
      "116 unknown\n",
      "209 unknown\n",
      "218 unknown\n",
      "246 unknown\n",
      "310 unknown\n",
      "358 unknown\n",
      "416 unknown\n",
      "436 unknown\n",
      "451 unknown\n",
      "485 unknown\n",
      "487 unknown\n",
      "510 unknown\n",
      "518 unknown\n",
      "550 unknown\n",
      "559 unknown\n",
      "574 unknown\n",
      "585 unknown\n",
      "602 1 share\n",
      "644 unknown\n",
      "694 unknown\n",
      "698 unknown\n",
      "714 1 share\n",
      "751 unknown\n",
      "939 unknown\n",
      "989 unknown\n",
      "1055 1 share\n",
      "1088 unknown\n",
      "1231 unknown\n",
      "1294 unknown\n",
      "1474 unknown\n",
      "1476 unknown\n",
      "1533 unknown\n"
     ]
    }
   ],
   "source": [
    "for i in range(len(df_test['num_share_post'])):\n",
    "  try:\n",
    "    df_test['num_share_post'][i] = float(df_test['num_share_post'][i])\n",
    "  #  if df_test['num_share_post'][i]>1000000:\n",
    "  #    print('sssss',df_test['num_share_post'][i],i)\n",
    "  except:\n",
    "    print(i,df_test['num_share_post'][i])"
   ]
  },
  {
   "cell_type": "markdown",
   "metadata": {
    "id": "fsuBsZdb3jYw"
   },
   "source": [
    "### Fixing"
   ]
  },
  {
   "cell_type": "code",
   "execution_count": null,
   "metadata": {
    "colab": {
     "base_uri": "https://localhost:8080/"
    },
    "id": "raamyNyagzCI",
    "outputId": "51365964-c64a-493a-c6ef-14ad3f8afe91"
   },
   "outputs": [
    {
     "name": "stderr",
     "output_type": "stream",
     "text": [
      "/usr/local/lib/python3.6/dist-packages/ipykernel_launcher.py:1: SettingWithCopyWarning: \n",
      "A value is trying to be set on a copy of a slice from a DataFrame\n",
      "\n",
      "See the caveats in the documentation: https://pandas.pydata.org/pandas-docs/stable/user_guide/indexing.html#returning-a-view-versus-a-copy\n",
      "  \"\"\"Entry point for launching an IPython kernel.\n",
      "/usr/local/lib/python3.6/dist-packages/ipykernel_launcher.py:2: SettingWithCopyWarning: \n",
      "A value is trying to be set on a copy of a slice from a DataFrame\n",
      "\n",
      "See the caveats in the documentation: https://pandas.pydata.org/pandas-docs/stable/user_guide/indexing.html#returning-a-view-versus-a-copy\n",
      "  \n"
     ]
    }
   ],
   "source": [
    "df_pri['num_share_post'][176] = 1\n",
    "df_pri['num_share_post'][1447] = 1\n"
   ]
  },
  {
   "cell_type": "code",
   "execution_count": null,
   "metadata": {
    "colab": {
     "base_uri": "https://localhost:8080/"
    },
    "id": "sPppCtWR3tGA",
    "outputId": "64d72b89-29a7-497f-9264-43168b1de153"
   },
   "outputs": [
    {
     "name": "stderr",
     "output_type": "stream",
     "text": [
      "/usr/local/lib/python3.6/dist-packages/ipykernel_launcher.py:1: SettingWithCopyWarning: \n",
      "A value is trying to be set on a copy of a slice from a DataFrame\n",
      "\n",
      "See the caveats in the documentation: https://pandas.pydata.org/pandas-docs/stable/user_guide/indexing.html#returning-a-view-versus-a-copy\n",
      "  \"\"\"Entry point for launching an IPython kernel.\n",
      "/usr/local/lib/python3.6/dist-packages/ipykernel_launcher.py:2: SettingWithCopyWarning: \n",
      "A value is trying to be set on a copy of a slice from a DataFrame\n",
      "\n",
      "See the caveats in the documentation: https://pandas.pydata.org/pandas-docs/stable/user_guide/indexing.html#returning-a-view-versus-a-copy\n",
      "  \n",
      "/usr/local/lib/python3.6/dist-packages/ipykernel_launcher.py:3: SettingWithCopyWarning: \n",
      "A value is trying to be set on a copy of a slice from a DataFrame\n",
      "\n",
      "See the caveats in the documentation: https://pandas.pydata.org/pandas-docs/stable/user_guide/indexing.html#returning-a-view-versus-a-copy\n",
      "  This is separate from the ipykernel package so we can avoid doing imports until\n",
      "/usr/local/lib/python3.6/dist-packages/ipykernel_launcher.py:4: SettingWithCopyWarning: \n",
      "A value is trying to be set on a copy of a slice from a DataFrame\n",
      "\n",
      "See the caveats in the documentation: https://pandas.pydata.org/pandas-docs/stable/user_guide/indexing.html#returning-a-view-versus-a-copy\n",
      "  after removing the cwd from sys.path.\n",
      "/usr/local/lib/python3.6/dist-packages/ipykernel_launcher.py:5: SettingWithCopyWarning: \n",
      "A value is trying to be set on a copy of a slice from a DataFrame\n",
      "\n",
      "See the caveats in the documentation: https://pandas.pydata.org/pandas-docs/stable/user_guide/indexing.html#returning-a-view-versus-a-copy\n",
      "  \"\"\"\n",
      "/usr/local/lib/python3.6/dist-packages/ipykernel_launcher.py:6: SettingWithCopyWarning: \n",
      "A value is trying to be set on a copy of a slice from a DataFrame\n",
      "\n",
      "See the caveats in the documentation: https://pandas.pydata.org/pandas-docs/stable/user_guide/indexing.html#returning-a-view-versus-a-copy\n",
      "  \n",
      "/usr/local/lib/python3.6/dist-packages/ipykernel_launcher.py:7: SettingWithCopyWarning: \n",
      "A value is trying to be set on a copy of a slice from a DataFrame\n",
      "\n",
      "See the caveats in the documentation: https://pandas.pydata.org/pandas-docs/stable/user_guide/indexing.html#returning-a-view-versus-a-copy\n",
      "  import sys\n",
      "/usr/local/lib/python3.6/dist-packages/ipykernel_launcher.py:8: SettingWithCopyWarning: \n",
      "A value is trying to be set on a copy of a slice from a DataFrame\n",
      "\n",
      "See the caveats in the documentation: https://pandas.pydata.org/pandas-docs/stable/user_guide/indexing.html#returning-a-view-versus-a-copy\n",
      "  \n"
     ]
    }
   ],
   "source": [
    "df_train['num_share_post'][388] = 1\n",
    "df_train['num_share_post'][921] = 1\n",
    "df_train['num_share_post'][1110] = 1\n",
    "df_train['num_share_post'][1971] = 1\n",
    "df_train['num_share_post'][2214] = 1\n",
    "df_train['num_share_post'][3144] = 1\n",
    "df_train['num_share_post'][3838] = 1\n",
    "df_train['num_share_post'][3922] = 1"
   ]
  },
  {
   "cell_type": "code",
   "execution_count": null,
   "metadata": {
    "colab": {
     "base_uri": "https://localhost:8080/"
    },
    "id": "RBiLCDMyP3u8",
    "outputId": "29c4b61a-0a07-45df-82a0-a003c5da66f8"
   },
   "outputs": [
    {
     "name": "stderr",
     "output_type": "stream",
     "text": [
      "/usr/local/lib/python3.6/dist-packages/ipykernel_launcher.py:1: SettingWithCopyWarning: \n",
      "A value is trying to be set on a copy of a slice from a DataFrame\n",
      "\n",
      "See the caveats in the documentation: https://pandas.pydata.org/pandas-docs/stable/user_guide/indexing.html#returning-a-view-versus-a-copy\n",
      "  \"\"\"Entry point for launching an IPython kernel.\n",
      "/usr/local/lib/python3.6/dist-packages/ipykernel_launcher.py:2: SettingWithCopyWarning: \n",
      "A value is trying to be set on a copy of a slice from a DataFrame\n",
      "\n",
      "See the caveats in the documentation: https://pandas.pydata.org/pandas-docs/stable/user_guide/indexing.html#returning-a-view-versus-a-copy\n",
      "  \n",
      "/usr/local/lib/python3.6/dist-packages/ipykernel_launcher.py:3: SettingWithCopyWarning: \n",
      "A value is trying to be set on a copy of a slice from a DataFrame\n",
      "\n",
      "See the caveats in the documentation: https://pandas.pydata.org/pandas-docs/stable/user_guide/indexing.html#returning-a-view-versus-a-copy\n",
      "  This is separate from the ipykernel package so we can avoid doing imports until\n"
     ]
    }
   ],
   "source": [
    "df_test['num_share_post'][602] = 1\n",
    "df_test['num_share_post'][714] = 1\n",
    "df_test['num_share_post'][1055] = 1"
   ]
  },
  {
   "cell_type": "code",
   "execution_count": null,
   "metadata": {
    "colab": {
     "base_uri": "https://localhost:8080/"
    },
    "id": "1j6zFDFh3_yg",
    "outputId": "868bca3d-3910-48f6-afaf-0d75698aeb49"
   },
   "outputs": [
    {
     "name": "stdout",
     "output_type": "stream",
     "text": [
      "index                                                            4036\n",
      "id                                                               4037\n",
      "user_name                            9515e17e4fd91a7165c6f0226a2e94d1\n",
      "post_message        Sở GD&ĐT Hải Phòng đã có chỉ đạo tới các trườn...\n",
      "timestamp_post                                                    NaN\n",
      "num_like_post                                                      45\n",
      "num_comment_post                                                    1\n",
      "num_share_post                            May 25th 2020, 21:57:58.000\n",
      "label                                                               0\n",
      "cleaned_text        sở giám_đốc & đt hải_phòng đã có chỉ_đạo tới c...\n",
      "Name: 4035, dtype: object\n",
      "index                                                            2842\n",
      "id                                                               2843\n",
      "user_name                            96b7f52c620680c848f55e7cb6e3e90f\n",
      "post_message        Anh Hồ Văn L., gia đình có 9 nhân khẩu, nhận đ...\n",
      "timestamp_post                                                    NaN\n",
      "num_like_post                                                      49\n",
      "num_comment_post                                                  172\n",
      "num_share_post                           June 11th 2020, 19:03:45.000\n",
      "label                                                               0\n",
      "cleaned_text        anh hồ văn l . , gia_đình có 9 nhân_khẩu , nhậ...\n",
      "Name: 2841, dtype: object\n"
     ]
    }
   ],
   "source": [
    "print(df_train.iloc[4035])\n",
    "print(df_train.iloc[2841])"
   ]
  },
  {
   "cell_type": "code",
   "execution_count": null,
   "metadata": {
    "colab": {
     "base_uri": "https://localhost:8080/"
    },
    "id": "jaJkJneQ4Mn4",
    "outputId": "75878132-4a88-481e-f921-41e37ec40f9a"
   },
   "outputs": [
    {
     "name": "stderr",
     "output_type": "stream",
     "text": [
      "/usr/local/lib/python3.6/dist-packages/ipykernel_launcher.py:6: SettingWithCopyWarning: \n",
      "A value is trying to be set on a copy of a slice from a DataFrame\n",
      "\n",
      "See the caveats in the documentation: https://pandas.pydata.org/pandas-docs/stable/user_guide/indexing.html#returning-a-view-versus-a-copy\n",
      "  \n",
      "/usr/local/lib/python3.6/dist-packages/ipykernel_launcher.py:7: SettingWithCopyWarning: \n",
      "A value is trying to be set on a copy of a slice from a DataFrame\n",
      "\n",
      "See the caveats in the documentation: https://pandas.pydata.org/pandas-docs/stable/user_guide/indexing.html#returning-a-view-versus-a-copy\n",
      "  import sys\n"
     ]
    }
   ],
   "source": [
    "from datetime import datetime,timezone\n",
    "arr = [4035,2841]\n",
    "for i in arr:\n",
    "  dt = datetime.strptime(df_train['num_share_post'][i], '%B %dth %Y, %H:%M:%S.%f')\n",
    "  timestamp = dt.replace(tzinfo=timezone.utc).timestamp()\n",
    "  df_train['timestamp_post'][i] = timestamp\n",
    "  df_train['num_share_post'][i] = np.nan"
   ]
  },
  {
   "cell_type": "code",
   "execution_count": null,
   "metadata": {
    "colab": {
     "base_uri": "https://localhost:8080/"
    },
    "id": "_2X8KymJ5jdS",
    "outputId": "2739a3bd-e93b-4e69-a48b-8b6364dabc45"
   },
   "outputs": [
    {
     "name": "stdout",
     "output_type": "stream",
     "text": [
      "index                                                            4036\n",
      "id                                                               4037\n",
      "user_name                            9515e17e4fd91a7165c6f0226a2e94d1\n",
      "post_message        Sở GD&ĐT Hải Phòng đã có chỉ đạo tới các trườn...\n",
      "timestamp_post                                            1.59044e+09\n",
      "num_like_post                                                      45\n",
      "num_comment_post                                                    1\n",
      "num_share_post                                                    NaN\n",
      "label                                                               0\n",
      "cleaned_text        sở giám_đốc & đt hải_phòng đã có chỉ_đạo tới c...\n",
      "Name: 4035, dtype: object\n",
      "index                                                            2842\n",
      "id                                                               2843\n",
      "user_name                            96b7f52c620680c848f55e7cb6e3e90f\n",
      "post_message        Anh Hồ Văn L., gia đình có 9 nhân khẩu, nhận đ...\n",
      "timestamp_post                                             1.5919e+09\n",
      "num_like_post                                                      49\n",
      "num_comment_post                                                  172\n",
      "num_share_post                                                    NaN\n",
      "label                                                               0\n",
      "cleaned_text        anh hồ văn l . , gia_đình có 9 nhân_khẩu , nhậ...\n",
      "Name: 2841, dtype: object\n"
     ]
    }
   ],
   "source": [
    "print(df_train.iloc[4035])\n",
    "print(df_train.iloc[2841])"
   ]
  },
  {
   "cell_type": "code",
   "execution_count": null,
   "metadata": {
    "colab": {
     "base_uri": "https://localhost:8080/"
    },
    "id": "ofBGD7EbhEU3",
    "outputId": "8aaba8e0-3b74-4c86-c5a9-1f22302b5b4d"
   },
   "outputs": [
    {
     "name": "stderr",
     "output_type": "stream",
     "text": [
      "/usr/local/lib/python3.6/dist-packages/ipykernel_launcher.py:3: SettingWithCopyWarning: \n",
      "A value is trying to be set on a copy of a slice from a DataFrame\n",
      "\n",
      "See the caveats in the documentation: https://pandas.pydata.org/pandas-docs/stable/user_guide/indexing.html#returning-a-view-versus-a-copy\n",
      "  This is separate from the ipykernel package so we can avoid doing imports until\n"
     ]
    }
   ],
   "source": [
    "for i in range(len(df_pri['num_share_post'])):\n",
    "  try:\n",
    "    df_pri['num_share_post'][i] = float(df_pri['num_share_post'][i])\n",
    "  except:\n",
    "    if df_pri['num_share_post'][i]=='unknown':\n",
    "      df_pri['num_share_post'][i] = np.nan\n",
    "    else:\n",
    "      print(i,df_pri['num_share_post'][i])"
   ]
  },
  {
   "cell_type": "code",
   "execution_count": null,
   "metadata": {
    "colab": {
     "base_uri": "https://localhost:8080/"
    },
    "id": "a341BNtU6u5D",
    "outputId": "8e6f4a46-f74b-4007-96e5-78b3193336e8"
   },
   "outputs": [
    {
     "name": "stderr",
     "output_type": "stream",
     "text": [
      "/usr/local/lib/python3.6/dist-packages/ipykernel_launcher.py:3: SettingWithCopyWarning: \n",
      "A value is trying to be set on a copy of a slice from a DataFrame\n",
      "\n",
      "See the caveats in the documentation: https://pandas.pydata.org/pandas-docs/stable/user_guide/indexing.html#returning-a-view-versus-a-copy\n",
      "  This is separate from the ipykernel package so we can avoid doing imports until\n",
      "/usr/local/lib/python3.6/dist-packages/ipykernel_launcher.py:6: SettingWithCopyWarning: \n",
      "A value is trying to be set on a copy of a slice from a DataFrame\n",
      "\n",
      "See the caveats in the documentation: https://pandas.pydata.org/pandas-docs/stable/user_guide/indexing.html#returning-a-view-versus-a-copy\n",
      "  \n"
     ]
    }
   ],
   "source": [
    "for i in range(len(df_train['num_share_post'])):\n",
    "  try:\n",
    "    df_train['num_share_post'][i] = float(df_train['num_share_post'][i])\n",
    "  except:\n",
    "    if df_train['num_share_post'][i]=='unknown':\n",
    "      df_train['num_share_post'][i] = np.nan\n",
    "    else:\n",
    "      print(i,df_train['num_share_post'][i])"
   ]
  },
  {
   "cell_type": "code",
   "execution_count": null,
   "metadata": {
    "colab": {
     "base_uri": "https://localhost:8080/"
    },
    "id": "SK_fc36qQAhJ",
    "outputId": "a3838f23-e43f-4456-aa55-0dcbc6c0325c"
   },
   "outputs": [
    {
     "name": "stderr",
     "output_type": "stream",
     "text": [
      "/usr/local/lib/python3.6/dist-packages/ipykernel_launcher.py:3: SettingWithCopyWarning: \n",
      "A value is trying to be set on a copy of a slice from a DataFrame\n",
      "\n",
      "See the caveats in the documentation: https://pandas.pydata.org/pandas-docs/stable/user_guide/indexing.html#returning-a-view-versus-a-copy\n",
      "  This is separate from the ipykernel package so we can avoid doing imports until\n",
      "/usr/local/lib/python3.6/dist-packages/ipykernel_launcher.py:6: SettingWithCopyWarning: \n",
      "A value is trying to be set on a copy of a slice from a DataFrame\n",
      "\n",
      "See the caveats in the documentation: https://pandas.pydata.org/pandas-docs/stable/user_guide/indexing.html#returning-a-view-versus-a-copy\n",
      "  \n"
     ]
    }
   ],
   "source": [
    "for i in range(len(df_test['num_share_post'])):\n",
    "  try:\n",
    "    df_test['num_share_post'][i] = float(df_test['num_share_post'][i])\n",
    "  except:\n",
    "    if df_test['num_share_post'][i]=='unknown':\n",
    "      df_test['num_share_post'][i] = np.nan\n",
    "    else:\n",
    "      print(i,df_test['num_share_post'][i])"
   ]
  },
  {
   "cell_type": "code",
   "execution_count": null,
   "metadata": {
    "colab": {
     "base_uri": "https://localhost:8080/"
    },
    "id": "YpoBVMfl6qOF",
    "outputId": "734b3d0a-cca9-47a1-f5d3-b799159b6680"
   },
   "outputs": [
    {
     "name": "stdout",
     "output_type": "stream",
     "text": [
      "<class 'pandas.core.frame.DataFrame'>\n",
      "RangeIndex: 4371 entries, 0 to 4370\n",
      "Data columns (total 9 columns):\n",
      " #   Column            Non-Null Count  Dtype  \n",
      "---  ------            --------------  -----  \n",
      " 0   index             4371 non-null   int64  \n",
      " 1   id                4371 non-null   int64  \n",
      " 2   user_name         4371 non-null   object \n",
      " 3   post_message      4371 non-null   object \n",
      " 4   timestamp_post    4277 non-null   float64\n",
      " 5   num_like_post     4371 non-null   float64\n",
      " 6   num_comment_post  4371 non-null   float64\n",
      " 7   num_share_post    3578 non-null   float64\n",
      " 8   label             4371 non-null   int64  \n",
      "dtypes: float64(4), int64(3), object(2)\n",
      "memory usage: 307.5+ KB\n"
     ]
    }
   ],
   "source": [
    "df_train['num_share_post'] = df_train['num_share_post'].astype(float)\n",
    "df_train.info()"
   ]
  },
  {
   "cell_type": "code",
   "execution_count": null,
   "metadata": {
    "colab": {
     "base_uri": "https://localhost:8080/"
    },
    "id": "k_ksRZM_hIU3",
    "outputId": "e558dd62-9d07-406a-aa98-ba2cd1af4622"
   },
   "outputs": [
    {
     "name": "stdout",
     "output_type": "stream",
     "text": [
      "<class 'pandas.core.frame.DataFrame'>\n",
      "RangeIndex: 1646 entries, 0 to 1645\n",
      "Data columns (total 7 columns):\n",
      " #   Column            Non-Null Count  Dtype  \n",
      "---  ------            --------------  -----  \n",
      " 0   id                1646 non-null   int64  \n",
      " 1   user_name         1646 non-null   object \n",
      " 2   post_message      1646 non-null   object \n",
      " 3   timestamp_post    1612 non-null   float64\n",
      " 4   num_like_post     1646 non-null   float64\n",
      " 5   num_comment_post  1646 non-null   float64\n",
      " 6   num_share_post    904 non-null    float64\n",
      "dtypes: float64(4), int64(1), object(2)\n",
      "memory usage: 90.1+ KB\n"
     ]
    }
   ],
   "source": [
    "df_pri['num_share_post'] = df_pri['num_share_post'].astype(float)\n",
    "df_pri.info()"
   ]
  },
  {
   "cell_type": "code",
   "execution_count": null,
   "metadata": {
    "colab": {
     "base_uri": "https://localhost:8080/"
    },
    "id": "bZpZHKJdQEou",
    "outputId": "7565086e-29d3-4cbf-c3af-c49c822a5e8f"
   },
   "outputs": [
    {
     "name": "stdout",
     "output_type": "stream",
     "text": [
      "<class 'pandas.core.frame.DataFrame'>\n",
      "RangeIndex: 1642 entries, 0 to 1641\n",
      "Data columns (total 8 columns):\n",
      " #   Column            Non-Null Count  Dtype  \n",
      "---  ------            --------------  -----  \n",
      " 0   id                1642 non-null   int64  \n",
      " 1   user_name         1642 non-null   object \n",
      " 2   post_message      1642 non-null   object \n",
      " 3   timestamp_post    1614 non-null   float64\n",
      " 4   num_like_post     1642 non-null   float64\n",
      " 5   num_comment_post  1642 non-null   float64\n",
      " 6   num_share_post    1334 non-null   float64\n",
      " 7   cleaned_text      1642 non-null   object \n",
      "dtypes: float64(4), int64(1), object(3)\n",
      "memory usage: 102.8+ KB\n"
     ]
    }
   ],
   "source": [
    "df_test['num_share_post'] = df_test['num_share_post'].astype(float)\n",
    "df_test.info()"
   ]
  },
  {
   "cell_type": "markdown",
   "metadata": {
    "id": "kcfl1Oie3lBA"
   },
   "source": [
    "### Plot and fill missing"
   ]
  },
  {
   "cell_type": "code",
   "execution_count": null,
   "metadata": {
    "colab": {
     "base_uri": "https://localhost:8080/",
     "height": 669
    },
    "id": "XYR0jVf3zTn8",
    "outputId": "eca615b5-26b9-4e08-8773-391122c0a040"
   },
   "outputs": [
    {
     "data": {
      "text/plain": [
       "<matplotlib.axes._subplots.AxesSubplot at 0x7fb3c1b33908>"
      ]
     },
     "execution_count": 151,
     "metadata": {
      "tags": []
     },
     "output_type": "execute_result"
    },
    {
     "data": {
      "image/png": "[encoded data removed]",
      "text/plain": [
       "<Figure size 2880x1440 with 1 Axes>"
      ]
     },
     "metadata": {
      "needs_background": "light",
      "tags": []
     },
     "output_type": "display_data"
    }
   ],
   "source": [
    "fig = plt.figure(figsize=(40,20))\n",
    "sns.histplot(data=df_train,x='num_share_post',kde=True,color='red')\n",
    "sns.histplot(test[:,3],kde=True,color='green')\n",
    "#sns.histplot(df_train['num_share_post'].fillna(df_train['num_share_post'].mean()),kde=True,color='blue')\n",
    "sns.histplot(df_train['num_share_post'].fillna(df_train['num_share_post'].median()),kde=True,color='orange')"
   ]
  },
  {
   "cell_type": "code",
   "execution_count": null,
   "metadata": {
    "colab": {
     "base_uri": "https://localhost:8080/",
     "height": 881
    },
    "id": "YgnvuvgSQqx_",
    "outputId": "f92ce692-5e31-4525-91c3-0326f1239f3d"
   },
   "outputs": [
    {
     "data": {
      "text/plain": [
       "<matplotlib.axes._subplots.AxesSubplot at 0x7fb3a85470b8>"
      ]
     },
     "execution_count": 190,
     "metadata": {
      "tags": []
     },
     "output_type": "execute_result"
    },
    {
     "data": {
      "image/png": "[encoded data removed]",
      "text/plain": [
       "<Figure size 2880x1440 with 1 Axes>"
      ]
     },
     "metadata": {
      "needs_background": "light",
      "tags": []
     },
     "output_type": "display_data"
    }
   ],
   "source": [
    "fig = plt.figure(figsize=(40,20))\n",
    "sns.histplot(data=df_test,x='num_share_post',kde=True,color='red')\n",
    "sns.histplot(test1[:,3],kde=True,color='green')\n",
    "sns.histplot(df_test['num_share_post'].fillna(df_test['num_share_post'].mean()),kde=True,color='blue')\n",
    "sns.histplot(df_test['num_share_post'].fillna(df_test['num_share_post'].median()),kde=True,color='orange')"
   ]
  },
  {
   "cell_type": "code",
   "execution_count": null,
   "metadata": {
    "id": "VTyTnwzON80W"
   },
   "outputs": [],
   "source": [
    "#Fill median\n",
    "df_train['num_share_post'] = df_train['num_share_post'].fillna(df_train['num_share_post'].median())"
   ]
  },
  {
   "cell_type": "code",
   "execution_count": null,
   "metadata": {
    "id": "ekPPqOBYQ0oG"
   },
   "outputs": [],
   "source": [
    "df_test['num_share_post'] = df_test['num_share_post'].fillna(df_test['num_share_post'].median())"
   ]
  },
  {
   "cell_type": "code",
   "execution_count": null,
   "metadata": {
    "id": "mns6SdDNhLlH"
   },
   "outputs": [],
   "source": [
    "df_pri['num_share_post'] = df_pri['num_share_post'].fillna(df_pri['num_share_post'].median())"
   ]
  },
  {
   "cell_type": "markdown",
   "metadata": {
    "id": "XP0CgrfdkqJb"
   },
   "source": [
    "# Creating feature"
   ]
  },
  {
   "cell_type": "code",
   "execution_count": null,
   "metadata": {
    "id": "FMzZY0irks54"
   },
   "outputs": [],
   "source": [
    "def count_punc(sent,punc):\n",
    "  cnt = 0\n",
    "  for s in sent:\n",
    "    if s==punc:\n",
    "      cnt+=1\n",
    "  return cnt\n",
    "\n",
    "share_fake_cnt = {}\n",
    "share_nonfake_cnt = {}\n",
    "def create_features(data, fake_cnt=1):\n",
    "  data['count_chars'] = data['post_message'].str.len()\n",
    "  data['count_words'] = data['post_message'].str.split().map(lambda x: len(x))\n",
    "  data['count_questionmark'] = data['post_message'].apply(lambda x: count_punc(x,'?'))\n",
    "  data['count_exclaimmark'] = data['post_message'].apply(lambda x: count_punc(x,'!'))\n",
    "  data['numHashtags'] = data['post_message'].apply(lambda x: len(re.findall(r'#(\\w+)',x)))\n",
    "  data['numUrls'] = data['post_message'].apply(lambda x: len(re.findall(r'<url>',x)))\n",
    "    \n",
    "  #filter from created_at\n",
    "  data['post_month'] = pd.to_datetime(data['timestamp_post'], unit='s').dt.month\n",
    "  data['post_year'] = pd.to_datetime(data['timestamp_post'], unit='s').dt.year\n",
    "  data['post_day'] = pd.to_datetime(data['timestamp_post'], unit='s').dt.day\n",
    "  data['post_hour'] = pd.to_datetime(data['timestamp_post'], unit='s').dt.hour\n",
    "  data['post_weekday'] = pd.to_datetime(data['timestamp_post'], unit='s').dt.weekday\n",
    "\n",
    "  #count share unreliable news ratio\n",
    "  if fake_cnt == 1:\n",
    "    for i in range(len(data['post_message'])):\n",
    "      user = data['user_name'][i]\n",
    "      share_fake_cnt[user] = 0\n",
    "      share_nonfake_cnt[user] = 0\n",
    "\n",
    "    for i in range(len(data['post_message'])):\n",
    "      user = data['user_name'][i]\n",
    "      label = data['label'][i]\n",
    "      if label == 1:\n",
    "          share_fake_cnt[user] += 1\n",
    "      else:\n",
    "          share_nonfake_cnt[user] += 1\n",
    "      \n",
    "  data['cnt_fake'] = data['num_comment_post']\n",
    "  data['cnt_nonfake'] = data['num_comment_post']\n",
    "  data['ratio'] = data['num_comment_post']\n",
    "  for i in range(len(data['post_message'])):\n",
    "    user = data['user_name'][i]\n",
    "    try:\n",
    "      fake_cnt = share_fake_cnt[user]\n",
    "    except:\n",
    "      fake_cnt = 0\n",
    "    try:\n",
    "      non_fake_cnt = share_nonfake_cnt[user]\n",
    "    except:\n",
    "      non_fake_cnt = 0\n",
    "    data['cnt_fake'][i] = fake_cnt\n",
    "    data['cnt_nonfake'][i] = non_fake_cnt\n",
    "    data['ratio'][i] = fake_cnt / (fake_cnt + non_fake_cnt + 1e-9)\n",
    "\n"
   ]
  },
  {
   "cell_type": "code",
   "execution_count": null,
   "metadata": {
    "colab": {
     "base_uri": "https://localhost:8080/"
    },
    "id": "ZekRDrx9o1ru",
    "outputId": "5c664073-9402-4e5c-ead3-52d242217f89"
   },
   "outputs": [
    {
     "name": "stderr",
     "output_type": "stream",
     "text": [
      "/usr/local/lib/python3.6/dist-packages/ipykernel_launcher.py:53: SettingWithCopyWarning: \n",
      "A value is trying to be set on a copy of a slice from a DataFrame\n",
      "\n",
      "See the caveats in the documentation: https://pandas.pydata.org/pandas-docs/stable/user_guide/indexing.html#returning-a-view-versus-a-copy\n",
      "/usr/local/lib/python3.6/dist-packages/ipykernel_launcher.py:54: SettingWithCopyWarning: \n",
      "A value is trying to be set on a copy of a slice from a DataFrame\n",
      "\n",
      "See the caveats in the documentation: https://pandas.pydata.org/pandas-docs/stable/user_guide/indexing.html#returning-a-view-versus-a-copy\n",
      "/usr/local/lib/python3.6/dist-packages/ipykernel_launcher.py:55: SettingWithCopyWarning: \n",
      "A value is trying to be set on a copy of a slice from a DataFrame\n",
      "\n",
      "See the caveats in the documentation: https://pandas.pydata.org/pandas-docs/stable/user_guide/indexing.html#returning-a-view-versus-a-copy\n"
     ]
    }
   ],
   "source": [
    "create_features(df_train)\n",
    "create_features(df_pri,fake_cnt=0)"
   ]
  },
  {
   "cell_type": "markdown",
   "metadata": {
    "id": "65TSXk6JtQmu"
   },
   "source": [
    "# Split into train/dev"
   ]
  },
  {
   "cell_type": "code",
   "execution_count": null,
   "metadata": {
    "id": "BRuky1pptTI2"
   },
   "outputs": [],
   "source": [
    "train, dev = train_test_split(df_train, test_size=0.1, random_state=42, stratify=df_train['label'])"
   ]
  },
  {
   "cell_type": "code",
   "execution_count": null,
   "metadata": {
    "id": "7td7zsHkLgOH"
   },
   "outputs": [],
   "source": [
    "def check_images(df, inputPath):\n",
    "\t# loop over the indexes of the houses\n",
    "  for i in tqdm.tqdm(df.id.values):\n",
    "    basePath = os.path.sep.join([inputPath, \"{0}/*\".format(i)])\n",
    "    housePaths = sorted(list(glob.glob(basePath)))\n",
    "    if len(housePaths)>0:\n",
    "      df['has_image']=1\n",
    "    else:\n",
    "      df['has_image']=0\n"
   ]
  },
  {
   "cell_type": "code",
   "execution_count": null,
   "metadata": {
    "id": "2W5SHCNELxuJ"
   },
   "outputs": [],
   "source": [
    "import os\n",
    "import glob\n",
    "\n",
    "imagePath_final  = '/content/drive/MyDrive/vlsp2020/private_test_final_images'\n",
    "imagePath_train  = '/content/drive/MyDrive/vlsp2020/public_train_final_images'\n",
    "dev['has_image'] = 0\n",
    "df_pri['has_image'] = 0\n",
    "\n",
    "train_img = []\n",
    "for i in tqdm.tqdm(train.id.values):\n",
    "  basePath = os.path.sep.join([imagePath_train, \"{0}/*\".format(i)])\n",
    "  housePaths = sorted(list(glob.glob(basePath)))\n",
    "  if len(housePaths)>0:\n",
    "    train_img.append(1)\n",
    "  else:\n",
    "    train_img.append(0)\n",
    "train['has_image'] = train_img\n",
    "\n",
    "dev_img = []\n",
    "for i in tqdm.tqdm(dev.id.values):\n",
    "  basePath = os.path.sep.join([imagePath_train, \"{0}/*\".format(i)])\n",
    "  housePaths = sorted(list(glob.glob(basePath)))\n",
    "  if len(housePaths)>0:\n",
    "    dev_img.append(1)\n",
    "  else:\n",
    "    dev_img.append(0)\n",
    "dev['has_image'] = dev_img\n",
    "\n",
    "final_img = []\n",
    "for i in tqdm.tqdm(df_pri.id.values):\n",
    "  basePath = os.path.sep.join([imagePath_final, \"{0}/*\".format(i)])\n",
    "  housePaths = sorted(list(glob.glob(basePath)))\n",
    "  if len(housePaths)>0:\n",
    "    final_img.append(1)\n",
    "  else:\n",
    "    final_img.append(0)\n",
    "df_pri['has_image'] = final_img"
   ]
  },
  {
   "cell_type": "code",
   "execution_count": null,
   "metadata": {
    "id": "eczjVdIKtdsI"
   },
   "outputs": [],
   "source": [
    "train.to_csv('/content/drive/My Drive/vlsp2020/train_rev1_news.csv',index=False)\n",
    "dev.to_csv('/content/drive/My Drive/vlsp2020/dev_rev1_news.csv',index=False)\n",
    "# df_test.to_csv('/content/drive/My Drive/vlsp2020/test_rev1_punc.csv',index=False)\n"
   ]
  },
  {
   "cell_type": "code",
   "execution_count": null,
   "metadata": {
    "id": "JlG4NgWGjHAi"
   },
   "outputs": [],
   "source": [
    "df_pri.to_csv('/content/drive/My Drive/vlsp2020/final_news.csv',index=False)\n"
   ]
  },
  {
   "cell_type": "markdown",
   "metadata": {
    "id": "mtFkd92hq9KM"
   },
   "source": [
    "# Reading Image"
   ]
  },
  {
   "cell_type": "code",
   "execution_count": null,
   "metadata": {
    "id": "K3hIebCvq-E6"
   },
   "outputs": [],
   "source": [
    "import glob\n",
    "import cv2\n",
    "import os\n",
    "import random\n",
    "import tqdm\n",
    "import numpy as np\n",
    "import pandas as pd"
   ]
  },
  {
   "cell_type": "code",
   "execution_count": null,
   "metadata": {
    "id": "sDqO-lwOjMQW"
   },
   "outputs": [],
   "source": [
    "imagePath_final  = '/content/drive/MyDrive/vlsp2020/private_test_final_images'"
   ]
  },
  {
   "cell_type": "code",
   "execution_count": null,
   "metadata": {
    "id": "IbnMHSvkrNx7"
   },
   "outputs": [],
   "source": [
    "imagePath_train  = '/content/drive/MyDrive/vlsp2020/public_train_final_images'"
   ]
  },
  {
   "cell_type": "code",
   "execution_count": null,
   "metadata": {
    "id": "v030fQ-tuh0V"
   },
   "outputs": [],
   "source": [
    "# imagePath_test  = '/content/drive/MyDrive/vlsp2020/public_test_final_images'"
   ]
  },
  {
   "cell_type": "code",
   "execution_count": null,
   "metadata": {
    "id": "35bGrKtWt02P"
   },
   "outputs": [],
   "source": [
    "df_train = pd.read_csv('/content/drive/MyDrive/vlsp2020/train_rev1.csv')\n",
    "df_val = pd.read_csv('/content/drive/MyDrive/vlsp2020/dev_rev1.csv')\n",
    "# df_test = pd.read_csv('/content/drive/MyDrive/vlsp2020/test_rev1.csv')\n",
    "df_pri = pd.read_csv('/content/drive/MyDrive/vlsp2020/final.csv')\n"
   ]
  },
  {
   "cell_type": "code",
   "execution_count": null,
   "metadata": {
    "id": "cLhESE_7sRGJ"
   },
   "outputs": [],
   "source": [
    "def load_images(df, inputPath):\n",
    "  images = []\n",
    "\t# loop over the indexes of the houses\n",
    "  for i in tqdm.tqdm(df.id.values):\n",
    "    basePath = os.path.sep.join([inputPath, \"{0}/*\".format(i)])\n",
    "    housePaths = sorted(list(glob.glob(basePath)))\n",
    "    if len(housePaths)>0:\n",
    "      try:\n",
    "        inputImage = cv2.imread(random.choice(housePaths))\n",
    "        inputImage = cv2.resize(inputImage, (299, 299))\n",
    "      except:\n",
    "        inputImage = np.zeros((299, 299, 3), dtype=\"uint8\")\n",
    "    else:\n",
    "      inputImage = np.zeros((299, 299, 3), dtype=\"uint8\")\n",
    "\n",
    "    images.append(inputImage)\n",
    "\t# return our set of images\n",
    "  return np.array(images)"
   ]
  },
  {
   "cell_type": "code",
   "execution_count": null,
   "metadata": {
    "colab": {
     "base_uri": "https://localhost:8080/"
    },
    "id": "1rncE9DzjT75",
    "outputId": "e4107290-9b23-45dc-9e82-def545ce82a7"
   },
   "outputs": [
    {
     "name": "stderr",
     "output_type": "stream",
     "text": [
      "100%|██████████| 1646/1646 [00:33<00:00, 49.31it/s] \n"
     ]
    }
   ],
   "source": [
    "final_image = load_images(df_pri, imagePath_final)"
   ]
  },
  {
   "cell_type": "code",
   "execution_count": null,
   "metadata": {
    "colab": {
     "base_uri": "https://localhost:8080/"
    },
    "id": "OHVkxriiuA3l",
    "outputId": "821d4590-5493-4e5f-b94b-ad972987ab59"
   },
   "outputs": [
    {
     "name": "stderr",
     "output_type": "stream",
     "text": [
      "100%|██████████| 3933/3933 [01:13<00:00, 53.76it/s]\n"
     ]
    }
   ],
   "source": [
    "train_image = load_images(df_train, imagePath_train)"
   ]
  },
  {
   "cell_type": "code",
   "execution_count": null,
   "metadata": {
    "colab": {
     "base_uri": "https://localhost:8080/"
    },
    "id": "niDijuxZ4dCO",
    "outputId": "4fb03823-927e-423d-f29d-961572ea762c"
   },
   "outputs": [
    {
     "name": "stderr",
     "output_type": "stream",
     "text": [
      "100%|██████████| 438/438 [00:09<00:00, 46.06it/s]\n"
     ]
    }
   ],
   "source": [
    "val_image = load_images(df_val, imagePath_train)"
   ]
  },
  {
   "cell_type": "code",
   "execution_count": null,
   "metadata": {
    "id": "Jjc4ihSLuR9U"
   },
   "outputs": [],
   "source": [
    "# test_image = load_images(df_test, imagePath_test)"
   ]
  },
  {
   "cell_type": "code",
   "execution_count": null,
   "metadata": {
    "id": "eAVRwvjhjZx5"
   },
   "outputs": [],
   "source": [
    "np.save('/content/drive/MyDrive/vlsp2020/final-image-299.npy',final_image)"
   ]
  },
  {
   "cell_type": "code",
   "execution_count": null,
   "metadata": {
    "id": "JnB23e75umVG"
   },
   "outputs": [],
   "source": [
    "np.save('/content/drive/MyDrive/vlsp2020/train-image-299.npy',train_image)\n",
    "np.save('/content/drive/MyDrive/vlsp2020/val-image-299.npy',val_image)\n",
    "#np.save('/content/drive/MyDrive/vlsp2020/test-image-224.npy',test_image)"
   ]
  }
 ],
 "metadata": {
  "colab": {
   "collapsed_sections": [
    "bOEyxuIW1XFX",
    "ajhs-Mhos1dp",
    "F1GTmx7Ss7VO",
    "TURixjFlNBZn",
    "2TSpingms_QW",
    "XHGNqzeqz7A-",
    "57GBfMhGz_Ze",
    "SBu3jC8z1N0p",
    "_V48PEok1Uu_",
    "gyDJDaSe3H94",
    "UQ1r8Gb_3U6K",
    "fsuBsZdb3jYw",
    "kcfl1Oie3lBA",
    "4LuewzasNlxf",
    "oSpcCZTSXWRS",
    "RRWmtLyBeKRW",
    "HsbSW7RReN8a"
   ],
   "name": "vlsp2020_reading_data.ipynb",
   "provenance": [],
   "toc_visible": true
  },
  "kernelspec": {
   "display_name": "Python 3",
   "language": "python",
   "name": "python3"
  },
  "language_info": {
   "codemirror_mode": {
    "name": "ipython",
    "version": 3
   },
   "file_extension": ".py",
   "mimetype": "text/x-python",
   "name": "python",
   "nbconvert_exporter": "python",
   "pygments_lexer": "ipython3",
   "version": "3.6.10"
  }
 },
 "nbformat": 4,
 "nbformat_minor": 4
}
